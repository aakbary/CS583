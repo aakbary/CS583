{
  "cells": [
    {
      "cell_type": "markdown",
      "metadata": {
        "id": "MjmI5eQOkYkZ"
      },
      "source": [
        "# Assignment 2: Build a CNN for image recognition.\n",
        "\n",
        "## Due Date:  March 27, 11:59PM\n",
        "\n",
        "### Name: Amena Akbary\n"
      ]
    },
    {
      "cell_type": "markdown",
      "metadata": {
        "id": "Rcm6akq-kYke"
      },
      "source": [
        "## Introduction:\n",
        "\n",
        "1. In this assignment, you will build Convolutional Neural Network to classify CIFAR-10 Images.\n",
        "2. You can directly load dataset from many deep learning packages.\n",
        "3. You can use any deep learning packages such as pytorch, keras or tensorflow for this assignment."
      ]
    },
    {
      "cell_type": "markdown",
      "metadata": {
        "id": "vMnM836KkYke"
      },
      "source": [
        "## Requirements:\n",
        "\n",
        "1. You need to load cifar 10 data and split the entire training dataset into training and validation.\n",
        "2. You will implement a CNN model to classify cifar 10 images with provided structure.\n",
        "3. You need to plot the training and validation accuracy or loss obtained from above step.\n",
        "4. Then you can use tuned parameters to train using the entire training dataset.\n",
        "5. You should report the testing accuracy using the model with complete data.\n",
        "6. You may try to change the structure (e.g, add BN layer or dropout layer,...) and analyze your findings.\n",
        "\n",
        "## Google Colab\n",
        "\n",
        "- If you do not have GPU, the training of a CNN can be slow. Google Colab is a good option."
      ]
    },
    {
      "cell_type": "markdown",
      "metadata": {
        "id": "bS7qtP6kkYkf"
      },
      "source": [
        "## Batch Normalization (BN)"
      ]
    },
    {
      "cell_type": "markdown",
      "metadata": {
        "id": "ve65zgHJkYkf"
      },
      "source": [
        "### Background:"
      ]
    },
    {
      "cell_type": "markdown",
      "metadata": {
        "id": "TkdBfzzekYkg"
      },
      "source": [
        "- Batch Normalization is a technique to speed up training and help make the model more stable.\n",
        "- In simple words, batch normalization is just another network layer that gets inserted between a hidden layer and the next hidden layer. Its job is to take the outputs from the first hidden layer and normalize them before passing them on as the input of the next hidden layer.\n",
        "\n",
        "- For more detailed information, you may refer to the original paper: https://arxiv.org/pdf/1502.03167.pdf."
      ]
    },
    {
      "cell_type": "markdown",
      "metadata": {
        "id": "m7E0vhirkYkg"
      },
      "source": [
        "### BN Algorithm:"
      ]
    },
    {
      "cell_type": "markdown",
      "metadata": {
        "id": "TZoM2Y_lkYkh"
      },
      "source": [
        "- Input: Values of $x$ over a mini-batch: $\\mathbf{B}$ = $\\{x_1,..., x_m\\};$\n",
        "- Output: $\\{y_i = BN_{\\gamma,\\beta}(x_i)\\}$, $\\gamma, \\beta$ are learnable parameters\n",
        "\n",
        "Normalization of the Input:\n",
        "$$\\mu_{\\mathbf{B}} = \\frac{1}{m}\\sum_{i=1}^m x_i$$\n",
        "$$\\sigma_{\\mathbf{B}}^2 = \\frac{1}{m}\\sum_{i=1}^m (x_i - \\mu_{\\mathbf{B}})^2$$\n",
        "$$\\hat{x_i} = \\frac{x_i - \\mu_{\\mathbf{B}}}{\\sqrt{\\sigma_{\\mathbf{B}}}^2 + \\epsilon}$$\n",
        "Re-scaling and Offsetting:\n",
        "$$y_i = \\gamma \\hat{x_i} + \\beta = BN_{\\gamma,\\beta}(x_i)$$\n"
      ]
    },
    {
      "cell_type": "markdown",
      "metadata": {
        "id": "A0yo00XykYkh"
      },
      "source": [
        "### Advantages of BN:\n",
        "1. Improves gradient flow through the network.\n",
        "2. Allows use of saturating nonlinearities and higher learning rates.\n",
        "3. Makes weights easier to initialize.\n",
        "4. Act as a form of regularization and may reduce the need for dropout."
      ]
    },
    {
      "cell_type": "markdown",
      "metadata": {
        "id": "h2LyKO7bkYkh"
      },
      "source": [
        "### Implementation:"
      ]
    },
    {
      "cell_type": "markdown",
      "metadata": {
        "id": "KL4fcnKVkYki"
      },
      "source": [
        "- The batch normalization layer has already been implemented in many packages. You may simply call the function to build the layer. For example: torch.nn.BatchNorm2d() using pytroch package, keras.layers.BatchNormalization() using keras package.\n",
        "- The location of BN layer: Please make sure ```BatchNormalization``` is between a ```Conv```/```Dense``` layer and an ```activation``` layer."
      ]
    },
    {
      "cell_type": "markdown",
      "metadata": {
        "id": "i1B4aPSWkYki"
      },
      "source": [
        "## 1. Data preparation"
      ]
    },
    {
      "cell_type": "markdown",
      "metadata": {
        "id": "IuqoBvCMkYki"
      },
      "source": [
        "### 1.1. Load data\n"
      ]
    },
    {
      "cell_type": "code",
      "execution_count": 1,
      "metadata": {
        "colab": {
          "base_uri": "https://localhost:8080/"
        },
        "id": "yY0XoZVskYkj",
        "outputId": "1eba0bd3-6482-460d-d79f-9b6a89a601af"
      },
      "outputs": [
        {
          "output_type": "stream",
          "name": "stdout",
          "text": [
            "Downloading data from https://www.cs.toronto.edu/~kriz/cifar-10-python.tar.gz\n",
            "170498071/170498071 [==============================] - 13s 0us/step\n",
            "shape of x_train: (50000, 32, 32, 3)\n",
            "shape of y_train: (50000, 1)\n",
            "shape of x_test: (10000, 32, 32, 3)\n",
            "shape of y_test: (10000, 1)\n",
            "number of classes: 10\n"
          ]
        }
      ],
      "source": [
        "# Load Cifar-10 Data\n",
        "# This is just an example, you may load dataset from other packages.\n",
        "import keras\n",
        "import numpy as np\n",
        "\n",
        "### If you can not load keras dataset, un-comment these two lines.\n",
        "#import ssl\n",
        "#ssl._create_default_https_context = ssl._create_unverified_context\n",
        "\n",
        "(x_train, y_train), (x_test, y_test) = keras.datasets.cifar10.load_data()\n",
        "\n",
        "print('shape of x_train: ' + str(x_train.shape))\n",
        "print('shape of y_train: ' + str(y_train.shape))\n",
        "print('shape of x_test: ' + str(x_test.shape))\n",
        "print('shape of y_test: ' + str(y_test.shape))\n",
        "print('number of classes: ' + str(np.max(y_train) - np.min(y_train) + 1))"
      ]
    },
    {
      "cell_type": "markdown",
      "metadata": {
        "id": "WifCzvfxkYkm"
      },
      "source": [
        "### 1.2. One-hot encode the labels (5 points)\n",
        "\n",
        "In the input, a label is a scalar in $\\{0, 1, \\cdots , 9\\}$. One-hot encode transform such a scalar to a $10$-dim vector. E.g., a scalar ```y_train[j]=3``` is transformed to the vector ```y_train_vec[j]=[0, 0, 0, 1, 0, 0, 0, 0, 0, 0]```.\n",
        "\n",
        "1. Implement a function ```to_one_hot``` that transforms an $n\\times 1$ array to a $n\\times 10$ matrix.\n",
        "\n",
        "2. Apply the function to ```y_train``` and ```y_test```."
      ]
    },
    {
      "cell_type": "code",
      "execution_count": 2,
      "metadata": {
        "colab": {
          "base_uri": "https://localhost:8080/"
        },
        "id": "gIPU-_vJQafg",
        "outputId": "e82639c6-e5c1-4d8a-8290-a21170ca1027"
      },
      "outputs": [
        {
          "output_type": "stream",
          "name": "stdout",
          "text": [
            "Shape of y_train_vec: (50000, 10)\n",
            "Shape of y_test_vec: (10000, 10)\n",
            "[6]\n",
            "[0. 0. 0. 0. 0. 0. 1. 0. 0. 0.]\n"
          ]
        }
      ],
      "source": [
        "def to_one_hot(y, num_class=10):\n",
        "  results = np.zeros((len(y), num_class))\n",
        "  for i, y in enumerate(y):\n",
        "    results[i, y] = 1\n",
        "  return results\n",
        "\n",
        "y_train_vec = to_one_hot(y_train)\n",
        "y_test_vec = to_one_hot(y_test)\n",
        "\n",
        "print('Shape of y_train_vec: ' + str(y_train_vec.shape))\n",
        "print('Shape of y_test_vec: ' + str(y_test_vec.shape))\n",
        "\n",
        "print(y_train[0])\n",
        "print(y_train_vec[0])"
      ]
    },
    {
      "cell_type": "markdown",
      "metadata": {
        "id": "wqBwjyyEkYkn"
      },
      "source": [
        "#### Remark: the outputs should be\n",
        "* Shape of y_train_vec: (50000, 10)\n",
        "* Shape of y_test_vec: (10000, 10)\n",
        "* [6]\n",
        "* [0. 0. 0. 0. 0. 0. 1. 0. 0. 0.]"
      ]
    },
    {
      "cell_type": "markdown",
      "metadata": {
        "id": "tpgJ3woUkYkn"
      },
      "source": [
        "### 1.3. Randomly partition the training set to training and validation sets (5 points)\n",
        "\n",
        "Randomly partition the 50K training samples to 2 sets:\n",
        "* a training set containing 40K samples: x_tr, y_tr\n",
        "* a validation set containing 10K samples: x_val, y_val\n"
      ]
    },
    {
      "cell_type": "code",
      "execution_count": 3,
      "metadata": {
        "colab": {
          "base_uri": "https://localhost:8080/"
        },
        "id": "54qW7MxMkYkn",
        "outputId": "12d1c839-1e03-4997-bcb2-01f249f69e9d"
      },
      "outputs": [
        {
          "output_type": "stream",
          "name": "stdout",
          "text": [
            "Training set size: 40000\n",
            "Validation set size: 10000\n",
            "Shape of x_tr: (40000, 32, 32, 3)\n",
            "Shape of y_tr: (40000, 10)\n",
            "Shape of x_val: (10000, 32, 32, 3)\n",
            "Shape of y_val: (10000, 10)\n"
          ]
        }
      ],
      "source": [
        "from sklearn.model_selection import train_test_split\n",
        "\n",
        "x_tr, x_val, y_tr, y_val = train_test_split(x_train, y_train_vec, test_size=0.2, random_state=42)\n",
        "\n",
        "print(\"Training set size:\", x_tr.shape[0])\n",
        "print(\"Validation set size:\", x_val.shape[0])\n",
        "\n",
        "print('Shape of x_tr: ' + str(x_tr.shape))\n",
        "print('Shape of y_tr: ' + str(y_tr.shape))\n",
        "print('Shape of x_val: ' + str(x_val.shape))\n",
        "print('Shape of y_val: ' + str(y_val.shape))"
      ]
    },
    {
      "cell_type": "markdown",
      "metadata": {
        "id": "xQXOqPNKkYko"
      },
      "source": [
        "## 2. Build a CNN and tune its hyper-parameters (50 points)\n",
        "\n",
        "- Build a convolutional neural network model using the below structure:\n",
        "\n",
        "- It should have a structure of: Conv - ReLU - Max Pool - ConV - ReLU - Max Pool - Dense - ReLU - Dense - Softmax\n",
        "\n",
        "- In the graph 3@32x32 means the dimension of input image, 32@30x30 means it has 32 filters and the dimension now becomes 30x30 after the convolution.\n",
        "- All convolutional layers (Conv) should have stride = 1 and no padding.\n",
        "- Max Pooling has a pool size of 2 by 2.\n",
        "\n",
        "\n"
      ]
    },
    {
      "cell_type": "markdown",
      "metadata": {
        "id": "wMPdkraWkYko"
      },
      "source": [
        "<img src=\"network.PNG\"/>"
      ]
    },
    {
      "cell_type": "markdown",
      "metadata": {
        "id": "LUh-4JwXkYkp"
      },
      "source": [
        "- You may use the validation data to tune the hyper-parameters (e.g., learning rate, and optimization algorithm)\n",
        "- Do NOT use test data for hyper-parameter tuning!!!\n",
        "- Try to achieve a validation accuracy as high as possible."
      ]
    },
    {
      "cell_type": "code",
      "execution_count": 4,
      "metadata": {
        "colab": {
          "base_uri": "https://localhost:8080/"
        },
        "id": "1Lm36cTXC2rf",
        "outputId": "814eac61-edc4-459e-a21a-3e362a622bb2"
      },
      "outputs": [
        {
          "output_type": "stream",
          "name": "stdout",
          "text": [
            "Model: \"sequential\"\n",
            "_________________________________________________________________\n",
            " Layer (type)                Output Shape              Param #   \n",
            "=================================================================\n",
            " conv2d (Conv2D)             (None, 30, 30, 32)        896       \n",
            "                                                                 \n",
            " max_pooling2d (MaxPooling2  (None, 15, 15, 32)        0         \n",
            " D)                                                              \n",
            "                                                                 \n",
            " conv2d_1 (Conv2D)           (None, 12, 12, 64)        32832     \n",
            "                                                                 \n",
            " max_pooling2d_1 (MaxPoolin  (None, 6, 6, 64)          0         \n",
            " g2D)                                                            \n",
            "                                                                 \n",
            " flatten (Flatten)           (None, 2304)              0         \n",
            "                                                                 \n",
            " dense (Dense)               (None, 256)               590080    \n",
            "                                                                 \n",
            " dense_1 (Dense)             (None, 10)                2570      \n",
            "                                                                 \n",
            "=================================================================\n",
            "Total params: 626378 (2.39 MB)\n",
            "Trainable params: 626378 (2.39 MB)\n",
            "Non-trainable params: 0 (0.00 Byte)\n",
            "_________________________________________________________________\n"
          ]
        }
      ],
      "source": [
        "#build the model\n",
        "from keras.models import Sequential\n",
        "from keras.layers import Conv2D, MaxPooling2D, Flatten, Dense, Activation\n",
        "\n",
        "model = Sequential()\n",
        "\n",
        "model.add(Conv2D(32, (3, 3), activation='relu', input_shape=(32, 32, 3)))\n",
        "\n",
        "model.add(MaxPooling2D((2, 2)))\n",
        "\n",
        "model.add(Conv2D(64, (4, 4), activation='relu'))\n",
        "\n",
        "model.add(MaxPooling2D((2, 2)))\n",
        "\n",
        "model.add(Flatten())\n",
        "\n",
        "model.add(Dense(256, activation='relu'))\n",
        "\n",
        "model.add(Dense(10, activation='softmax'))\n",
        "\n",
        "# Print the model summary\n",
        "model.summary()\n"
      ]
    },
    {
      "cell_type": "code",
      "execution_count": 5,
      "metadata": {
        "colab": {
          "base_uri": "https://localhost:8080/"
        },
        "id": "rUTGLD1TkYkp",
        "outputId": "ec40350a-c58c-40fc-a17c-9ab3c37a9279"
      },
      "outputs": [
        {
          "output_type": "stream",
          "name": "stdout",
          "text": [
            "Model: \"sequential\"\n",
            "_________________________________________________________________\n",
            " Layer (type)                Output Shape              Param #   \n",
            "=================================================================\n",
            " conv2d (Conv2D)             (None, 30, 30, 32)        896       \n",
            "                                                                 \n",
            " max_pooling2d (MaxPooling2  (None, 15, 15, 32)        0         \n",
            " D)                                                              \n",
            "                                                                 \n",
            " conv2d_1 (Conv2D)           (None, 12, 12, 64)        32832     \n",
            "                                                                 \n",
            " max_pooling2d_1 (MaxPoolin  (None, 6, 6, 64)          0         \n",
            " g2D)                                                            \n",
            "                                                                 \n",
            " flatten (Flatten)           (None, 2304)              0         \n",
            "                                                                 \n",
            " dense (Dense)               (None, 256)               590080    \n",
            "                                                                 \n",
            " dense_1 (Dense)             (None, 10)                2570      \n",
            "                                                                 \n",
            "=================================================================\n",
            "Total params: 626378 (2.39 MB)\n",
            "Trainable params: 626378 (2.39 MB)\n",
            "Non-trainable params: 0 (0.00 Byte)\n",
            "_________________________________________________________________\n"
          ]
        }
      ],
      "source": [
        "# Define model optimizer and loss function\n",
        "from keras import optimizers\n",
        "\n",
        "model.compile(optimizers.RMSprop(learning_rate =0.0001), loss = 'categorical_crossentropy', metrics=['accuracy'])\n",
        "\n",
        "model.summary()"
      ]
    },
    {
      "cell_type": "code",
      "execution_count": 6,
      "metadata": {
        "id": "qoA9K9GNkYkp",
        "colab": {
          "base_uri": "https://localhost:8080/"
        },
        "outputId": "21488432-993a-4879-cf53-67241761e17f"
      },
      "outputs": [
        {
          "output_type": "stream",
          "name": "stdout",
          "text": [
            "Epoch 1/50\n",
            "313/313 [==============================] - 6s 8ms/step - loss: 5.2566 - accuracy: 0.2663 - val_loss: 1.9509 - val_accuracy: 0.3734\n",
            "Epoch 2/50\n",
            "313/313 [==============================] - 2s 6ms/step - loss: 1.6504 - accuracy: 0.4381 - val_loss: 1.5382 - val_accuracy: 0.4740\n",
            "Epoch 3/50\n",
            "313/313 [==============================] - 2s 6ms/step - loss: 1.3437 - accuracy: 0.5336 - val_loss: 1.5156 - val_accuracy: 0.5007\n",
            "Epoch 4/50\n",
            "313/313 [==============================] - 2s 7ms/step - loss: 1.1681 - accuracy: 0.5966 - val_loss: 1.3805 - val_accuracy: 0.5337\n",
            "Epoch 5/50\n",
            "313/313 [==============================] - 2s 6ms/step - loss: 1.0258 - accuracy: 0.6447 - val_loss: 1.3912 - val_accuracy: 0.5445\n",
            "Epoch 6/50\n",
            "313/313 [==============================] - 2s 6ms/step - loss: 0.9117 - accuracy: 0.6861 - val_loss: 1.5069 - val_accuracy: 0.5271\n",
            "Epoch 7/50\n",
            "313/313 [==============================] - 2s 6ms/step - loss: 0.8131 - accuracy: 0.7191 - val_loss: 1.3046 - val_accuracy: 0.5758\n",
            "Epoch 8/50\n",
            "313/313 [==============================] - 2s 6ms/step - loss: 0.7224 - accuracy: 0.7557 - val_loss: 1.3057 - val_accuracy: 0.5826\n",
            "Epoch 9/50\n",
            "313/313 [==============================] - 2s 6ms/step - loss: 0.6435 - accuracy: 0.7827 - val_loss: 1.3127 - val_accuracy: 0.6017\n",
            "Epoch 10/50\n",
            "313/313 [==============================] - 2s 6ms/step - loss: 0.5687 - accuracy: 0.8120 - val_loss: 1.3271 - val_accuracy: 0.5959\n",
            "Epoch 11/50\n",
            "313/313 [==============================] - 2s 7ms/step - loss: 0.4997 - accuracy: 0.8362 - val_loss: 1.3260 - val_accuracy: 0.6015\n",
            "Epoch 12/50\n",
            "313/313 [==============================] - 2s 6ms/step - loss: 0.4374 - accuracy: 0.8595 - val_loss: 1.3575 - val_accuracy: 0.6047\n",
            "Epoch 13/50\n",
            "313/313 [==============================] - 2s 6ms/step - loss: 0.3818 - accuracy: 0.8796 - val_loss: 1.4037 - val_accuracy: 0.6064\n",
            "Epoch 14/50\n",
            "313/313 [==============================] - 2s 6ms/step - loss: 0.3279 - accuracy: 0.8986 - val_loss: 1.4137 - val_accuracy: 0.6131\n",
            "Epoch 15/50\n",
            "313/313 [==============================] - 2s 6ms/step - loss: 0.2821 - accuracy: 0.9148 - val_loss: 1.6187 - val_accuracy: 0.5900\n",
            "Epoch 16/50\n",
            "313/313 [==============================] - 2s 6ms/step - loss: 0.2394 - accuracy: 0.9298 - val_loss: 1.5501 - val_accuracy: 0.6054\n",
            "Epoch 17/50\n",
            "313/313 [==============================] - 2s 7ms/step - loss: 0.2000 - accuracy: 0.9435 - val_loss: 1.5887 - val_accuracy: 0.6130\n",
            "Epoch 18/50\n",
            "313/313 [==============================] - 2s 6ms/step - loss: 0.1684 - accuracy: 0.9549 - val_loss: 1.7450 - val_accuracy: 0.5946\n",
            "Epoch 19/50\n",
            "313/313 [==============================] - 2s 6ms/step - loss: 0.1391 - accuracy: 0.9638 - val_loss: 1.7543 - val_accuracy: 0.6095\n",
            "Epoch 20/50\n",
            "313/313 [==============================] - 2s 6ms/step - loss: 0.1146 - accuracy: 0.9724 - val_loss: 1.7381 - val_accuracy: 0.6206\n",
            "Epoch 21/50\n",
            "313/313 [==============================] - 2s 6ms/step - loss: 0.0930 - accuracy: 0.9794 - val_loss: 1.9522 - val_accuracy: 0.6007\n",
            "Epoch 22/50\n",
            "313/313 [==============================] - 2s 6ms/step - loss: 0.0759 - accuracy: 0.9831 - val_loss: 1.8587 - val_accuracy: 0.6183\n",
            "Epoch 23/50\n",
            "313/313 [==============================] - 2s 7ms/step - loss: 0.0618 - accuracy: 0.9883 - val_loss: 1.9531 - val_accuracy: 0.6184\n",
            "Epoch 24/50\n",
            "313/313 [==============================] - 2s 6ms/step - loss: 0.0520 - accuracy: 0.9900 - val_loss: 2.0886 - val_accuracy: 0.6166\n",
            "Epoch 25/50\n",
            "313/313 [==============================] - 2s 6ms/step - loss: 0.0449 - accuracy: 0.9919 - val_loss: 2.0811 - val_accuracy: 0.6152\n",
            "Epoch 26/50\n",
            "313/313 [==============================] - 2s 6ms/step - loss: 0.0370 - accuracy: 0.9935 - val_loss: 2.1287 - val_accuracy: 0.6210\n",
            "Epoch 27/50\n",
            "313/313 [==============================] - 2s 6ms/step - loss: 0.0299 - accuracy: 0.9943 - val_loss: 2.1772 - val_accuracy: 0.6239\n",
            "Epoch 28/50\n",
            "313/313 [==============================] - 2s 6ms/step - loss: 0.0264 - accuracy: 0.9949 - val_loss: 2.2800 - val_accuracy: 0.6151\n",
            "Epoch 29/50\n",
            "313/313 [==============================] - 2s 7ms/step - loss: 0.0261 - accuracy: 0.9951 - val_loss: 2.3632 - val_accuracy: 0.6178\n",
            "Epoch 30/50\n",
            "313/313 [==============================] - 2s 7ms/step - loss: 0.0231 - accuracy: 0.9952 - val_loss: 2.3680 - val_accuracy: 0.6239\n",
            "Epoch 31/50\n",
            "313/313 [==============================] - 2s 6ms/step - loss: 0.0178 - accuracy: 0.9971 - val_loss: 2.4079 - val_accuracy: 0.6234\n",
            "Epoch 32/50\n",
            "313/313 [==============================] - 2s 6ms/step - loss: 0.0170 - accuracy: 0.9967 - val_loss: 2.5460 - val_accuracy: 0.6157\n",
            "Epoch 33/50\n",
            "313/313 [==============================] - 2s 6ms/step - loss: 0.0158 - accuracy: 0.9969 - val_loss: 2.4933 - val_accuracy: 0.6262\n",
            "Epoch 34/50\n",
            "313/313 [==============================] - 2s 6ms/step - loss: 0.0159 - accuracy: 0.9968 - val_loss: 2.6564 - val_accuracy: 0.6219\n",
            "Epoch 35/50\n",
            "313/313 [==============================] - 3s 9ms/step - loss: 0.0160 - accuracy: 0.9962 - val_loss: 2.5245 - val_accuracy: 0.6274\n",
            "Epoch 36/50\n",
            "313/313 [==============================] - 2s 7ms/step - loss: 0.0114 - accuracy: 0.9975 - val_loss: 2.6278 - val_accuracy: 0.6256\n",
            "Epoch 37/50\n",
            "313/313 [==============================] - 2s 6ms/step - loss: 0.0134 - accuracy: 0.9967 - val_loss: 2.6592 - val_accuracy: 0.6280\n",
            "Epoch 38/50\n",
            "313/313 [==============================] - 2s 6ms/step - loss: 0.0094 - accuracy: 0.9979 - val_loss: 2.7606 - val_accuracy: 0.6256\n",
            "Epoch 39/50\n",
            "313/313 [==============================] - 2s 6ms/step - loss: 0.0094 - accuracy: 0.9980 - val_loss: 2.7617 - val_accuracy: 0.6302\n",
            "Epoch 40/50\n",
            "313/313 [==============================] - 2s 6ms/step - loss: 0.0112 - accuracy: 0.9973 - val_loss: 2.8633 - val_accuracy: 0.6213\n",
            "Epoch 41/50\n",
            "313/313 [==============================] - 2s 6ms/step - loss: 0.0097 - accuracy: 0.9973 - val_loss: 2.9009 - val_accuracy: 0.6256\n",
            "Epoch 42/50\n",
            "313/313 [==============================] - 2s 7ms/step - loss: 0.0095 - accuracy: 0.9975 - val_loss: 2.8792 - val_accuracy: 0.6260\n",
            "Epoch 43/50\n",
            "313/313 [==============================] - 2s 6ms/step - loss: 0.0082 - accuracy: 0.9980 - val_loss: 2.8798 - val_accuracy: 0.6256\n",
            "Epoch 44/50\n",
            "313/313 [==============================] - 2s 6ms/step - loss: 0.0083 - accuracy: 0.9978 - val_loss: 2.8913 - val_accuracy: 0.6260\n",
            "Epoch 45/50\n",
            "313/313 [==============================] - 2s 6ms/step - loss: 0.0079 - accuracy: 0.9979 - val_loss: 3.0074 - val_accuracy: 0.6251\n",
            "Epoch 46/50\n",
            "313/313 [==============================] - 2s 6ms/step - loss: 0.0100 - accuracy: 0.9976 - val_loss: 2.9773 - val_accuracy: 0.6288\n",
            "Epoch 47/50\n",
            "313/313 [==============================] - 2s 6ms/step - loss: 0.0084 - accuracy: 0.9980 - val_loss: 3.2848 - val_accuracy: 0.6209\n",
            "Epoch 48/50\n",
            "313/313 [==============================] - 2s 7ms/step - loss: 0.0061 - accuracy: 0.9984 - val_loss: 3.2711 - val_accuracy: 0.6190\n",
            "Epoch 49/50\n",
            "313/313 [==============================] - 2s 6ms/step - loss: 0.0086 - accuracy: 0.9977 - val_loss: 3.1467 - val_accuracy: 0.6286\n",
            "Epoch 50/50\n",
            "313/313 [==============================] - 2s 6ms/step - loss: 0.0048 - accuracy: 0.9990 - val_loss: 3.0443 - val_accuracy: 0.6287\n"
          ]
        }
      ],
      "source": [
        "# Train the model and store model parameters/loss values\n",
        "history = model.fit(x_tr, y_tr, batch_size=128, epochs=50, validation_data=(x_val, y_val))"
      ]
    },
    {
      "cell_type": "markdown",
      "metadata": {
        "id": "GTI5yPEGkYkq"
      },
      "source": [
        "## 3. Plot the training and validation loss curve versus epochs. (5 points)"
      ]
    },
    {
      "cell_type": "code",
      "execution_count": 7,
      "metadata": {
        "id": "nyNvikwnkYkq",
        "colab": {
          "base_uri": "https://localhost:8080/",
          "height": 489
        },
        "outputId": "2573058c-f23b-473c-db4e-6c3f32c0398d"
      },
      "outputs": [
        {
          "output_type": "stream",
          "name": "stdout",
          "text": [
            "Training Accuracy: 99.90%\n"
          ]
        },
        {
          "output_type": "display_data",
          "data": {
            "text/plain": [
              "<Figure size 640x480 with 1 Axes>"
            ],
            "image/png": "[encoded data removed]"
          },
          "metadata": {}
        }
      ],
      "source": [
        "# Plot the loss curve\n",
        "import matplotlib.pyplot as plt\n",
        "%matplotlib inline\n",
        "\n",
        "train_accuracy = history.history['accuracy'][-1]\n",
        "print(f\"Training Accuracy: {train_accuracy * 100:.2f}%\")\n",
        "\n",
        "\n",
        "train_loss = history.history['loss']\n",
        "valid_loss = history.history['val_loss']\n",
        "\n",
        "epochs = range(1, len(train_loss) + 1)\n",
        "\n",
        "plt.plot(epochs, train_loss, 'bo', label = \"Training Accuracy\")\n",
        "plt.plot(epochs, valid_loss, 'r', label = 'Validation Accurcy')\n",
        "plt.title(\"Training and Validation Loss\")\n",
        "plt.xlabel('Epochs')\n",
        "plt.ylabel('Loss')\n",
        "plt.legend()\n",
        "plt.show()"
      ]
    },
    {
      "cell_type": "markdown",
      "metadata": {
        "id": "-kK1YFtEkYkr"
      },
      "source": [
        "## 4. Train (again) and evaluate the model (5 points)\n",
        "\n",
        "- To this end, you have found the \"best\" hyper-parameters.\n",
        "- Now, fix the hyper-parameters and train the network on the entire training set (all the 50K training samples)\n",
        "- Evaluate your model on the test set."
      ]
    },
    {
      "cell_type": "markdown",
      "metadata": {
        "id": "vJhJW4dpkYkr"
      },
      "source": [
        "### Train the model on the entire training set\n",
        "\n",
        "Why? Previously, you used 40K samples for training; you wasted 10K samples for the sake of hyper-parameter tuning. Now you already know the hyper-parameters, so why not using all the 50K samples for training?"
      ]
    },
    {
      "cell_type": "code",
      "execution_count": 8,
      "metadata": {
        "id": "0pfII6StkYkr",
        "colab": {
          "base_uri": "https://localhost:8080/"
        },
        "outputId": "c38faa30-ede2-4e43-e51c-17f599803ba3"
      },
      "outputs": [
        {
          "output_type": "stream",
          "name": "stdout",
          "text": [
            "Model: \"sequential\"\n",
            "_________________________________________________________________\n",
            " Layer (type)                Output Shape              Param #   \n",
            "=================================================================\n",
            " conv2d (Conv2D)             (None, 30, 30, 32)        896       \n",
            "                                                                 \n",
            " max_pooling2d (MaxPooling2  (None, 15, 15, 32)        0         \n",
            " D)                                                              \n",
            "                                                                 \n",
            " conv2d_1 (Conv2D)           (None, 12, 12, 64)        32832     \n",
            "                                                                 \n",
            " max_pooling2d_1 (MaxPoolin  (None, 6, 6, 64)          0         \n",
            " g2D)                                                            \n",
            "                                                                 \n",
            " flatten (Flatten)           (None, 2304)              0         \n",
            "                                                                 \n",
            " dense (Dense)               (None, 256)               590080    \n",
            "                                                                 \n",
            " dense_1 (Dense)             (None, 10)                2570      \n",
            "                                                                 \n",
            "=================================================================\n",
            "Total params: 626378 (2.39 MB)\n",
            "Trainable params: 626378 (2.39 MB)\n",
            "Non-trainable params: 0 (0.00 Byte)\n",
            "_________________________________________________________________\n"
          ]
        }
      ],
      "source": [
        "#<Compile your model again (using the same hyper-parameters you tuned above)>\n",
        "from keras import optimizers\n",
        "\n",
        "model.compile(optimizers.RMSprop(learning_rate =0.0001), loss = 'categorical_crossentropy', metrics=['accuracy'])\n",
        "\n",
        "model.summary()"
      ]
    },
    {
      "cell_type": "code",
      "execution_count": 9,
      "metadata": {
        "id": "6v8Wg3r7kYks",
        "colab": {
          "base_uri": "https://localhost:8080/"
        },
        "outputId": "8ad5b532-69f6-4592-b26b-67640b4b5e16"
      },
      "outputs": [
        {
          "output_type": "stream",
          "name": "stdout",
          "text": [
            "Epoch 1/50\n",
            "391/391 [==============================] - 4s 7ms/step - loss: 0.5231 - accuracy: 0.9089 - val_loss: 1.3136 - val_accuracy: 0.6987\n",
            "Epoch 2/50\n",
            "391/391 [==============================] - 2s 6ms/step - loss: 0.3222 - accuracy: 0.9296 - val_loss: 0.9241 - val_accuracy: 0.7604\n",
            "Epoch 3/50\n",
            "391/391 [==============================] - 3s 7ms/step - loss: 0.2097 - accuracy: 0.9477 - val_loss: 0.5852 - val_accuracy: 0.8362\n",
            "Epoch 4/50\n",
            "391/391 [==============================] - 2s 6ms/step - loss: 0.1438 - accuracy: 0.9622 - val_loss: 0.2885 - val_accuracy: 0.9165\n",
            "Epoch 5/50\n",
            "391/391 [==============================] - 2s 6ms/step - loss: 0.0957 - accuracy: 0.9734 - val_loss: 0.2237 - val_accuracy: 0.9311\n",
            "Epoch 6/50\n",
            "391/391 [==============================] - 2s 6ms/step - loss: 0.0675 - accuracy: 0.9813 - val_loss: 0.1293 - val_accuracy: 0.9629\n",
            "Epoch 7/50\n",
            "391/391 [==============================] - 2s 6ms/step - loss: 0.0460 - accuracy: 0.9876 - val_loss: 0.0713 - val_accuracy: 0.9824\n",
            "Epoch 8/50\n",
            "391/391 [==============================] - 3s 7ms/step - loss: 0.0366 - accuracy: 0.9901 - val_loss: 0.0726 - val_accuracy: 0.9764\n",
            "Epoch 9/50\n",
            "391/391 [==============================] - 2s 6ms/step - loss: 0.0257 - accuracy: 0.9937 - val_loss: 0.0534 - val_accuracy: 0.9832\n",
            "Epoch 10/50\n",
            "391/391 [==============================] - 2s 6ms/step - loss: 0.0213 - accuracy: 0.9946 - val_loss: 0.0260 - val_accuracy: 0.9947\n",
            "Epoch 11/50\n",
            "391/391 [==============================] - 2s 6ms/step - loss: 0.0178 - accuracy: 0.9953 - val_loss: 0.0214 - val_accuracy: 0.9955\n",
            "Epoch 12/50\n",
            "391/391 [==============================] - 2s 6ms/step - loss: 0.0145 - accuracy: 0.9965 - val_loss: 0.0473 - val_accuracy: 0.9855\n",
            "Epoch 13/50\n",
            "391/391 [==============================] - 3s 7ms/step - loss: 0.0152 - accuracy: 0.9959 - val_loss: 0.0279 - val_accuracy: 0.9915\n",
            "Epoch 14/50\n",
            "391/391 [==============================] - 2s 6ms/step - loss: 0.0124 - accuracy: 0.9970 - val_loss: 0.0235 - val_accuracy: 0.9943\n",
            "Epoch 15/50\n",
            "391/391 [==============================] - 2s 6ms/step - loss: 0.0111 - accuracy: 0.9973 - val_loss: 0.0059 - val_accuracy: 0.9997\n",
            "Epoch 16/50\n",
            "391/391 [==============================] - 2s 6ms/step - loss: 0.0106 - accuracy: 0.9972 - val_loss: 0.0074 - val_accuracy: 0.9986\n",
            "Epoch 17/50\n",
            "391/391 [==============================] - 2s 6ms/step - loss: 0.0097 - accuracy: 0.9973 - val_loss: 0.0066 - val_accuracy: 0.9990\n",
            "Epoch 18/50\n",
            "391/391 [==============================] - 3s 6ms/step - loss: 0.0083 - accuracy: 0.9979 - val_loss: 0.0456 - val_accuracy: 0.9835\n",
            "Epoch 19/50\n",
            "391/391 [==============================] - 3s 6ms/step - loss: 0.0088 - accuracy: 0.9977 - val_loss: 0.0055 - val_accuracy: 0.9991\n",
            "Epoch 20/50\n",
            "391/391 [==============================] - 2s 6ms/step - loss: 0.0074 - accuracy: 0.9981 - val_loss: 0.0093 - val_accuracy: 0.9978\n",
            "Epoch 21/50\n",
            "391/391 [==============================] - 2s 6ms/step - loss: 0.0071 - accuracy: 0.9982 - val_loss: 0.0028 - val_accuracy: 0.9997\n",
            "Epoch 22/50\n",
            "391/391 [==============================] - 2s 6ms/step - loss: 0.0062 - accuracy: 0.9986 - val_loss: 0.0020 - val_accuracy: 0.9999\n",
            "Epoch 23/50\n",
            "391/391 [==============================] - 2s 6ms/step - loss: 0.0067 - accuracy: 0.9981 - val_loss: 0.0085 - val_accuracy: 0.9979\n",
            "Epoch 24/50\n",
            "391/391 [==============================] - 3s 7ms/step - loss: 0.0068 - accuracy: 0.9983 - val_loss: 0.0091 - val_accuracy: 0.9978\n",
            "Epoch 25/50\n",
            "391/391 [==============================] - 2s 6ms/step - loss: 0.0058 - accuracy: 0.9984 - val_loss: 0.0140 - val_accuracy: 0.9955\n",
            "Epoch 26/50\n",
            "391/391 [==============================] - 2s 6ms/step - loss: 0.0059 - accuracy: 0.9985 - val_loss: 0.0310 - val_accuracy: 0.9904\n",
            "Epoch 27/50\n",
            "391/391 [==============================] - 2s 6ms/step - loss: 0.0067 - accuracy: 0.9982 - val_loss: 0.0028 - val_accuracy: 0.9995\n",
            "Epoch 28/50\n",
            "391/391 [==============================] - 2s 6ms/step - loss: 0.0058 - accuracy: 0.9984 - val_loss: 0.0038 - val_accuracy: 0.9995\n",
            "Epoch 29/50\n",
            "391/391 [==============================] - 3s 7ms/step - loss: 0.0055 - accuracy: 0.9985 - val_loss: 0.0013 - val_accuracy: 1.0000\n",
            "Epoch 30/50\n",
            "391/391 [==============================] - 2s 6ms/step - loss: 0.0044 - accuracy: 0.9988 - val_loss: 0.0013 - val_accuracy: 0.9997\n",
            "Epoch 31/50\n",
            "391/391 [==============================] - 2s 6ms/step - loss: 0.0055 - accuracy: 0.9981 - val_loss: 0.0026 - val_accuracy: 0.9996\n",
            "Epoch 32/50\n",
            "391/391 [==============================] - 2s 6ms/step - loss: 0.0055 - accuracy: 0.9984 - val_loss: 0.0057 - val_accuracy: 0.9989\n",
            "Epoch 33/50\n",
            "391/391 [==============================] - 2s 6ms/step - loss: 0.0043 - accuracy: 0.9988 - val_loss: 0.0063 - val_accuracy: 0.9985\n",
            "Epoch 34/50\n",
            "391/391 [==============================] - 3s 7ms/step - loss: 0.0044 - accuracy: 0.9988 - val_loss: 0.0023 - val_accuracy: 0.9996\n",
            "Epoch 35/50\n",
            "391/391 [==============================] - 2s 6ms/step - loss: 0.0045 - accuracy: 0.9986 - val_loss: 0.0214 - val_accuracy: 0.9931\n",
            "Epoch 36/50\n",
            "391/391 [==============================] - 2s 6ms/step - loss: 0.0041 - accuracy: 0.9989 - val_loss: 0.0053 - val_accuracy: 0.9984\n",
            "Epoch 37/50\n",
            "391/391 [==============================] - 2s 6ms/step - loss: 0.0050 - accuracy: 0.9984 - val_loss: 0.0088 - val_accuracy: 0.9975\n",
            "Epoch 38/50\n",
            "391/391 [==============================] - 2s 6ms/step - loss: 0.0050 - accuracy: 0.9984 - val_loss: 0.0031 - val_accuracy: 0.9994\n",
            "Epoch 39/50\n",
            "391/391 [==============================] - 3s 7ms/step - loss: 0.0052 - accuracy: 0.9986 - val_loss: 0.0117 - val_accuracy: 0.9965\n",
            "Epoch 40/50\n",
            "391/391 [==============================] - 2s 6ms/step - loss: 0.0057 - accuracy: 0.9985 - val_loss: 0.0019 - val_accuracy: 0.9998\n",
            "Epoch 41/50\n",
            "391/391 [==============================] - 2s 6ms/step - loss: 0.0033 - accuracy: 0.9992 - val_loss: 0.0013 - val_accuracy: 0.9998\n",
            "Epoch 42/50\n",
            "391/391 [==============================] - 2s 6ms/step - loss: 0.0034 - accuracy: 0.9991 - val_loss: 9.7609e-04 - val_accuracy: 0.9999\n",
            "Epoch 43/50\n",
            "391/391 [==============================] - 2s 6ms/step - loss: 0.0033 - accuracy: 0.9990 - val_loss: 0.0031 - val_accuracy: 0.9991\n",
            "Epoch 44/50\n",
            "391/391 [==============================] - 3s 7ms/step - loss: 0.0052 - accuracy: 0.9984 - val_loss: 0.0063 - val_accuracy: 0.9983\n",
            "Epoch 45/50\n",
            "391/391 [==============================] - 2s 6ms/step - loss: 0.0040 - accuracy: 0.9990 - val_loss: 0.0030 - val_accuracy: 0.9993\n",
            "Epoch 46/50\n",
            "391/391 [==============================] - 2s 6ms/step - loss: 0.0039 - accuracy: 0.9986 - val_loss: 0.0015 - val_accuracy: 0.9996\n",
            "Epoch 47/50\n",
            "391/391 [==============================] - 2s 6ms/step - loss: 0.0044 - accuracy: 0.9988 - val_loss: 0.0025 - val_accuracy: 0.9993\n",
            "Epoch 48/50\n",
            "391/391 [==============================] - 2s 6ms/step - loss: 0.0045 - accuracy: 0.9987 - val_loss: 0.0038 - val_accuracy: 0.9986\n",
            "Epoch 49/50\n",
            "391/391 [==============================] - 2s 6ms/step - loss: 0.0036 - accuracy: 0.9989 - val_loss: 0.0032 - val_accuracy: 0.9993\n",
            "Epoch 50/50\n",
            "391/391 [==============================] - 3s 7ms/step - loss: 0.0045 - accuracy: 0.9986 - val_loss: 0.0035 - val_accuracy: 0.9990\n"
          ]
        }
      ],
      "source": [
        "#<Train your model on the entire training set (50K samples)>\n",
        "history = model.fit(x_train, y_train_vec, batch_size=128, epochs=50, validation_data=(x_val, y_val))"
      ]
    },
    {
      "cell_type": "markdown",
      "metadata": {
        "id": "msFa_Ty4kYks"
      },
      "source": [
        "## 5. Evaluate the model on the test set (5 points)\n",
        "\n",
        "Do NOT used the test set until now. Make sure that your model parameters and hyper-parameters are independent of the test set."
      ]
    },
    {
      "cell_type": "code",
      "execution_count": 10,
      "metadata": {
        "id": "rdm9blLMkYkt",
        "colab": {
          "base_uri": "https://localhost:8080/",
          "height": 506
        },
        "outputId": "f531cb65-9465-4dc1-eeb7-e808ab5e5ec3"
      },
      "outputs": [
        {
          "output_type": "stream",
          "name": "stdout",
          "text": [
            "313/313 [==============================] - 1s 3ms/step - loss: 3.9162 - accuracy: 0.6485\n",
            "Testing Accuracy: 64.85%\n"
          ]
        },
        {
          "output_type": "display_data",
          "data": {
            "text/plain": [
              "<Figure size 640x480 with 1 Axes>"
            ],
            "image/png": "[encoded data removed]"
          },
          "metadata": {}
        }
      ],
      "source": [
        "# Evaluate your model performance (testing accuracy) on testing data.\n",
        "test_loss, test_accuracy = model.evaluate(x_test, y_test_vec)\n",
        "\n",
        "print(f\"Testing Accuracy: {test_accuracy * 100:.2f}%\")\n",
        "\n",
        "train_accuracy = history.history['accuracy']\n",
        "valid_accuracy = history.history['val_accuracy']\n",
        "plt.plot(epochs, train_accuracy, 'bo', label=\"Training Accuracy\")\n",
        "plt.plot(epochs, valid_accuracy, 'r', label=\"Validation Accuracy\")\n",
        "plt.title(\"Training and Validation Accuracy\")\n",
        "plt.xlabel(\"Epochs\")\n",
        "plt.ylabel(\"Accuracy\")\n",
        "plt.legend()\n",
        "plt.show()"
      ]
    },
    {
      "cell_type": "markdown",
      "metadata": {
        "id": "rlFvtTJhkYku"
      },
      "source": [
        "## 6. Building model with new structure (25 points)\n",
        "- In this section, you can build your model with adding new layers (e.g, BN layer or dropout layer, ...)\n",
        "- If you want to regularize a ```Conv/Dense layer```, you should place a ```Dropout layer``` before the ```Conv/Dense layer```.\n",
        "- You can try to compare their loss curve and testing accuracy and analyze your findings.\n",
        "- You need to try at lease two different structures."
      ]
    },
    {
      "cell_type": "code",
      "execution_count": 11,
      "metadata": {
        "id": "ewHgszqWkYkv",
        "colab": {
          "base_uri": "https://localhost:8080/"
        },
        "outputId": "e94d7f02-180b-45e1-c5a0-e3becd0b45ae"
      },
      "outputs": [
        {
          "output_type": "stream",
          "name": "stdout",
          "text": [
            "Model: \"sequential_1\"\n",
            "_________________________________________________________________\n",
            " Layer (type)                Output Shape              Param #   \n",
            "=================================================================\n",
            " conv2d_2 (Conv2D)           (None, 30, 30, 32)        896       \n",
            "                                                                 \n",
            " max_pooling2d_2 (MaxPoolin  (None, 15, 15, 32)        0         \n",
            " g2D)                                                            \n",
            "                                                                 \n",
            " dropout (Dropout)           (None, 15, 15, 32)        0         \n",
            "                                                                 \n",
            " conv2d_3 (Conv2D)           (None, 12, 12, 64)        32832     \n",
            "                                                                 \n",
            " max_pooling2d_3 (MaxPoolin  (None, 6, 6, 64)          0         \n",
            " g2D)                                                            \n",
            "                                                                 \n",
            " flatten_1 (Flatten)         (None, 2304)              0         \n",
            "                                                                 \n",
            " dense_2 (Dense)             (None, 256)               590080    \n",
            "                                                                 \n",
            " dense_3 (Dense)             (None, 10)                2570      \n",
            "                                                                 \n",
            "=================================================================\n",
            "Total params: 626378 (2.39 MB)\n",
            "Trainable params: 626378 (2.39 MB)\n",
            "Non-trainable params: 0 (0.00 Byte)\n",
            "_________________________________________________________________\n"
          ]
        }
      ],
      "source": [
        "#DROP OUT LAYER\n",
        "from keras.models import Sequential\n",
        "from keras.layers import Conv2D, MaxPooling2D, Flatten, Dense, Dropout\n",
        "\n",
        "#build the model\n",
        "models = Sequential()\n",
        "\n",
        "models.add(Conv2D(32, (3, 3), activation='relu', input_shape=(32, 32, 3)))\n",
        "\n",
        "models.add(MaxPooling2D((2, 2)))\n",
        "\n",
        "models.add(Dropout(0.5))\n",
        "\n",
        "models.add(Conv2D(64, (4, 4), activation='relu'))\n",
        "\n",
        "models.add(MaxPooling2D((2, 2)))\n",
        "\n",
        "# models.add(Dropout(0.25))\n",
        "\n",
        "models.add(Flatten())\n",
        "\n",
        "models.add(Dense(256, activation='relu'))\n",
        "\n",
        "# models.add(Dropout(0.5))\n",
        "\n",
        "models.add(Dense(10, activation='softmax'))\n",
        "\n",
        "# Print the model summary\n",
        "models.summary()"
      ]
    },
    {
      "cell_type": "code",
      "execution_count": 12,
      "metadata": {
        "id": "s8O4iEjNjVCo",
        "colab": {
          "base_uri": "https://localhost:8080/"
        },
        "outputId": "f3a93fde-16c1-418e-a829-d3b5abdadf38"
      },
      "outputs": [
        {
          "output_type": "stream",
          "name": "stdout",
          "text": [
            "Model: \"sequential_1\"\n",
            "_________________________________________________________________\n",
            " Layer (type)                Output Shape              Param #   \n",
            "=================================================================\n",
            " conv2d_2 (Conv2D)           (None, 30, 30, 32)        896       \n",
            "                                                                 \n",
            " max_pooling2d_2 (MaxPoolin  (None, 15, 15, 32)        0         \n",
            " g2D)                                                            \n",
            "                                                                 \n",
            " dropout (Dropout)           (None, 15, 15, 32)        0         \n",
            "                                                                 \n",
            " conv2d_3 (Conv2D)           (None, 12, 12, 64)        32832     \n",
            "                                                                 \n",
            " max_pooling2d_3 (MaxPoolin  (None, 6, 6, 64)          0         \n",
            " g2D)                                                            \n",
            "                                                                 \n",
            " flatten_1 (Flatten)         (None, 2304)              0         \n",
            "                                                                 \n",
            " dense_2 (Dense)             (None, 256)               590080    \n",
            "                                                                 \n",
            " dense_3 (Dense)             (None, 10)                2570      \n",
            "                                                                 \n",
            "=================================================================\n",
            "Total params: 626378 (2.39 MB)\n",
            "Trainable params: 626378 (2.39 MB)\n",
            "Non-trainable params: 0 (0.00 Byte)\n",
            "_________________________________________________________________\n"
          ]
        }
      ],
      "source": [
        "#compiling\n",
        "from keras import optimizers\n",
        "\n",
        "models.compile(optimizers.RMSprop(learning_rate =0.0001), loss = 'categorical_crossentropy', metrics=['accuracy'])\n",
        "\n",
        "models.summary()"
      ]
    },
    {
      "cell_type": "code",
      "execution_count": 13,
      "metadata": {
        "colab": {
          "base_uri": "https://localhost:8080/"
        },
        "id": "1Wmrx_ZolKxr",
        "outputId": "e4bad615-20d0-4541-d299-d176a2bd6e76"
      },
      "outputs": [
        {
          "output_type": "stream",
          "name": "stdout",
          "text": [
            "Epoch 1/50\n",
            "313/313 [==============================] - 5s 8ms/step - loss: 9.8139 - accuracy: 0.1493 - val_loss: 2.1220 - val_accuracy: 0.2076\n",
            "Epoch 2/50\n",
            "313/313 [==============================] - 2s 7ms/step - loss: 2.0244 - accuracy: 0.2533 - val_loss: 1.8247 - val_accuracy: 0.3308\n",
            "Epoch 3/50\n",
            "313/313 [==============================] - 2s 7ms/step - loss: 1.7975 - accuracy: 0.3488 - val_loss: 1.7663 - val_accuracy: 0.3719\n",
            "Epoch 4/50\n",
            "313/313 [==============================] - 2s 7ms/step - loss: 1.6541 - accuracy: 0.4014 - val_loss: 1.6879 - val_accuracy: 0.3959\n",
            "Epoch 5/50\n",
            "313/313 [==============================] - 2s 6ms/step - loss: 1.5630 - accuracy: 0.4347 - val_loss: 1.6129 - val_accuracy: 0.4218\n",
            "Epoch 6/50\n",
            "313/313 [==============================] - 2s 7ms/step - loss: 1.4881 - accuracy: 0.4653 - val_loss: 1.6416 - val_accuracy: 0.4090\n",
            "Epoch 7/50\n",
            "313/313 [==============================] - 2s 7ms/step - loss: 1.4340 - accuracy: 0.4854 - val_loss: 1.5125 - val_accuracy: 0.4535\n",
            "Epoch 8/50\n",
            "313/313 [==============================] - 2s 8ms/step - loss: 1.3800 - accuracy: 0.5082 - val_loss: 1.5352 - val_accuracy: 0.4450\n",
            "Epoch 9/50\n",
            "313/313 [==============================] - 2s 7ms/step - loss: 1.3428 - accuracy: 0.5211 - val_loss: 1.6162 - val_accuracy: 0.4231\n",
            "Epoch 10/50\n",
            "313/313 [==============================] - 2s 7ms/step - loss: 1.3063 - accuracy: 0.5383 - val_loss: 1.4893 - val_accuracy: 0.4704\n",
            "Epoch 11/50\n",
            "313/313 [==============================] - 2s 7ms/step - loss: 1.2681 - accuracy: 0.5499 - val_loss: 1.4993 - val_accuracy: 0.4670\n",
            "Epoch 12/50\n",
            "313/313 [==============================] - 2s 7ms/step - loss: 1.2345 - accuracy: 0.5645 - val_loss: 1.4019 - val_accuracy: 0.4967\n",
            "Epoch 13/50\n",
            "313/313 [==============================] - 2s 7ms/step - loss: 1.2034 - accuracy: 0.5767 - val_loss: 1.3298 - val_accuracy: 0.5311\n",
            "Epoch 14/50\n",
            "313/313 [==============================] - 2s 8ms/step - loss: 1.1751 - accuracy: 0.5834 - val_loss: 1.4098 - val_accuracy: 0.4942\n",
            "Epoch 15/50\n",
            "313/313 [==============================] - 2s 7ms/step - loss: 1.1485 - accuracy: 0.5968 - val_loss: 1.2876 - val_accuracy: 0.5400\n",
            "Epoch 16/50\n",
            "313/313 [==============================] - 2s 7ms/step - loss: 1.1209 - accuracy: 0.6071 - val_loss: 1.2434 - val_accuracy: 0.5586\n",
            "Epoch 17/50\n",
            "313/313 [==============================] - 2s 7ms/step - loss: 1.0951 - accuracy: 0.6130 - val_loss: 1.4054 - val_accuracy: 0.5034\n",
            "Epoch 18/50\n",
            "313/313 [==============================] - 2s 7ms/step - loss: 1.0762 - accuracy: 0.6216 - val_loss: 1.3539 - val_accuracy: 0.5182\n",
            "Epoch 19/50\n",
            "313/313 [==============================] - 2s 7ms/step - loss: 1.0540 - accuracy: 0.6292 - val_loss: 1.2478 - val_accuracy: 0.5647\n",
            "Epoch 20/50\n",
            "313/313 [==============================] - 2s 7ms/step - loss: 1.0341 - accuracy: 0.6354 - val_loss: 1.1524 - val_accuracy: 0.5945\n",
            "Epoch 21/50\n",
            "313/313 [==============================] - 2s 7ms/step - loss: 1.0172 - accuracy: 0.6433 - val_loss: 1.2183 - val_accuracy: 0.5696\n",
            "Epoch 22/50\n",
            "313/313 [==============================] - 2s 7ms/step - loss: 0.9959 - accuracy: 0.6508 - val_loss: 1.1462 - val_accuracy: 0.6018\n",
            "Epoch 23/50\n",
            "313/313 [==============================] - 2s 7ms/step - loss: 0.9729 - accuracy: 0.6596 - val_loss: 1.2023 - val_accuracy: 0.5747\n",
            "Epoch 24/50\n",
            "313/313 [==============================] - 2s 7ms/step - loss: 0.9607 - accuracy: 0.6643 - val_loss: 1.1947 - val_accuracy: 0.5820\n",
            "Epoch 25/50\n",
            "313/313 [==============================] - 3s 8ms/step - loss: 0.9446 - accuracy: 0.6696 - val_loss: 1.1253 - val_accuracy: 0.6023\n",
            "Epoch 26/50\n",
            "313/313 [==============================] - 2s 7ms/step - loss: 0.9270 - accuracy: 0.6765 - val_loss: 1.1989 - val_accuracy: 0.5760\n",
            "Epoch 27/50\n",
            "313/313 [==============================] - 2s 7ms/step - loss: 0.9154 - accuracy: 0.6806 - val_loss: 1.1207 - val_accuracy: 0.6083\n",
            "Epoch 28/50\n",
            "313/313 [==============================] - 2s 7ms/step - loss: 0.9008 - accuracy: 0.6853 - val_loss: 1.1410 - val_accuracy: 0.6008\n",
            "Epoch 29/50\n",
            "313/313 [==============================] - 2s 7ms/step - loss: 0.8822 - accuracy: 0.6927 - val_loss: 1.1297 - val_accuracy: 0.6097\n",
            "Epoch 30/50\n",
            "313/313 [==============================] - 3s 8ms/step - loss: 0.8669 - accuracy: 0.6988 - val_loss: 1.1644 - val_accuracy: 0.5955\n",
            "Epoch 31/50\n",
            "313/313 [==============================] - 2s 7ms/step - loss: 0.8547 - accuracy: 0.7024 - val_loss: 1.1347 - val_accuracy: 0.6103\n",
            "Epoch 32/50\n",
            "313/313 [==============================] - 2s 7ms/step - loss: 0.8424 - accuracy: 0.7075 - val_loss: 1.1064 - val_accuracy: 0.6161\n",
            "Epoch 33/50\n",
            "313/313 [==============================] - 2s 7ms/step - loss: 0.8268 - accuracy: 0.7134 - val_loss: 1.0786 - val_accuracy: 0.6307\n",
            "Epoch 34/50\n",
            "313/313 [==============================] - 2s 7ms/step - loss: 0.8167 - accuracy: 0.7160 - val_loss: 1.0654 - val_accuracy: 0.6335\n",
            "Epoch 35/50\n",
            "313/313 [==============================] - 2s 7ms/step - loss: 0.8047 - accuracy: 0.7186 - val_loss: 1.0776 - val_accuracy: 0.6314\n",
            "Epoch 36/50\n",
            "313/313 [==============================] - 2s 8ms/step - loss: 0.7898 - accuracy: 0.7250 - val_loss: 1.0284 - val_accuracy: 0.6449\n",
            "Epoch 37/50\n",
            "313/313 [==============================] - 2s 7ms/step - loss: 0.7767 - accuracy: 0.7315 - val_loss: 1.0993 - val_accuracy: 0.6232\n",
            "Epoch 38/50\n",
            "313/313 [==============================] - 2s 7ms/step - loss: 0.7598 - accuracy: 0.7344 - val_loss: 1.0312 - val_accuracy: 0.6463\n",
            "Epoch 39/50\n",
            "313/313 [==============================] - 2s 7ms/step - loss: 0.7534 - accuracy: 0.7377 - val_loss: 0.9966 - val_accuracy: 0.6549\n",
            "Epoch 40/50\n",
            "313/313 [==============================] - 2s 6ms/step - loss: 0.7378 - accuracy: 0.7444 - val_loss: 0.9926 - val_accuracy: 0.6615\n",
            "Epoch 41/50\n",
            "313/313 [==============================] - 2s 8ms/step - loss: 0.7276 - accuracy: 0.7472 - val_loss: 0.9647 - val_accuracy: 0.6684\n",
            "Epoch 42/50\n",
            "313/313 [==============================] - 2s 7ms/step - loss: 0.7179 - accuracy: 0.7509 - val_loss: 0.9702 - val_accuracy: 0.6672\n",
            "Epoch 43/50\n",
            "313/313 [==============================] - 2s 7ms/step - loss: 0.7075 - accuracy: 0.7526 - val_loss: 0.9576 - val_accuracy: 0.6688\n",
            "Epoch 44/50\n",
            "313/313 [==============================] - 2s 7ms/step - loss: 0.6962 - accuracy: 0.7567 - val_loss: 1.0094 - val_accuracy: 0.6599\n",
            "Epoch 45/50\n",
            "313/313 [==============================] - 2s 7ms/step - loss: 0.6857 - accuracy: 0.7615 - val_loss: 0.9767 - val_accuracy: 0.6643\n",
            "Epoch 46/50\n",
            "313/313 [==============================] - 2s 7ms/step - loss: 0.6706 - accuracy: 0.7652 - val_loss: 1.0911 - val_accuracy: 0.6385\n",
            "Epoch 47/50\n",
            "313/313 [==============================] - 2s 8ms/step - loss: 0.6630 - accuracy: 0.7698 - val_loss: 0.9879 - val_accuracy: 0.6668\n",
            "Epoch 48/50\n",
            "313/313 [==============================] - 2s 7ms/step - loss: 0.6490 - accuracy: 0.7728 - val_loss: 1.1373 - val_accuracy: 0.6299\n",
            "Epoch 49/50\n",
            "313/313 [==============================] - 2s 7ms/step - loss: 0.6444 - accuracy: 0.7771 - val_loss: 1.0867 - val_accuracy: 0.6439\n",
            "Epoch 50/50\n",
            "313/313 [==============================] - 2s 7ms/step - loss: 0.6350 - accuracy: 0.7789 - val_loss: 1.0008 - val_accuracy: 0.6666\n"
          ]
        }
      ],
      "source": [
        "#training on partial dataset\n",
        "history = models.fit(x_tr, y_tr, batch_size=128, epochs=50, validation_data=(x_val, y_val))"
      ]
    },
    {
      "cell_type": "code",
      "execution_count": 14,
      "metadata": {
        "colab": {
          "base_uri": "https://localhost:8080/",
          "height": 472
        },
        "id": "q-FN04j0jZP6",
        "outputId": "2152d1b1-00cb-45fa-b5d9-874b1f0d7d37"
      },
      "outputs": [
        {
          "output_type": "display_data",
          "data": {
            "text/plain": [
              "<Figure size 640x480 with 1 Axes>"
            ],
            "image/png": "[encoded data removed]"
          },
          "metadata": {}
        }
      ],
      "source": [
        "#plotting loss\n",
        "train_loss = history.history['loss']\n",
        "valid_loss = history.history['val_loss']\n",
        "\n",
        "epochs = range(1, len(train_loss) + 1)\n",
        "\n",
        "plt.plot(epochs, train_loss, 'bo', label = \"Training Accuracy\")\n",
        "plt.plot(epochs, valid_loss, 'r', label = 'Validation Accurcy')\n",
        "plt.title(\"Training and Validation Loss\")\n",
        "plt.xlabel('Epochs')\n",
        "plt.ylabel('Loss')\n",
        "plt.legend()\n",
        "plt.show()"
      ]
    },
    {
      "cell_type": "code",
      "execution_count": 15,
      "metadata": {
        "colab": {
          "base_uri": "https://localhost:8080/"
        },
        "id": "BxOyx36DjbTg",
        "outputId": "9a0f1976-ded1-447e-e848-1c08459428e4"
      },
      "outputs": [
        {
          "output_type": "stream",
          "name": "stdout",
          "text": [
            "Epoch 1/50\n",
            "391/391 [==============================] - 3s 8ms/step - loss: 0.7129 - accuracy: 0.7571 - val_loss: 0.9707 - val_accuracy: 0.6710\n",
            "Epoch 2/50\n",
            "391/391 [==============================] - 3s 7ms/step - loss: 0.6957 - accuracy: 0.7621 - val_loss: 0.8901 - val_accuracy: 0.6935\n",
            "Epoch 3/50\n",
            "391/391 [==============================] - 3s 6ms/step - loss: 0.6774 - accuracy: 0.7675 - val_loss: 0.8312 - val_accuracy: 0.7142\n",
            "Epoch 4/50\n",
            "391/391 [==============================] - 3s 7ms/step - loss: 0.6711 - accuracy: 0.7710 - val_loss: 0.8255 - val_accuracy: 0.7143\n",
            "Epoch 5/50\n",
            "391/391 [==============================] - 3s 6ms/step - loss: 0.6508 - accuracy: 0.7752 - val_loss: 0.9144 - val_accuracy: 0.6874\n",
            "Epoch 6/50\n",
            "391/391 [==============================] - 3s 8ms/step - loss: 0.6443 - accuracy: 0.7804 - val_loss: 0.7734 - val_accuracy: 0.7317\n",
            "Epoch 7/50\n",
            "391/391 [==============================] - 3s 7ms/step - loss: 0.6274 - accuracy: 0.7863 - val_loss: 0.8052 - val_accuracy: 0.7211\n",
            "Epoch 8/50\n",
            "391/391 [==============================] - 2s 6ms/step - loss: 0.6241 - accuracy: 0.7861 - val_loss: 0.7146 - val_accuracy: 0.7535\n",
            "Epoch 9/50\n",
            "391/391 [==============================] - 3s 7ms/step - loss: 0.6100 - accuracy: 0.7887 - val_loss: 0.7781 - val_accuracy: 0.7270\n",
            "Epoch 10/50\n",
            "391/391 [==============================] - 3s 7ms/step - loss: 0.5968 - accuracy: 0.7931 - val_loss: 0.6789 - val_accuracy: 0.7638\n",
            "Epoch 11/50\n",
            "391/391 [==============================] - 3s 7ms/step - loss: 0.5881 - accuracy: 0.7986 - val_loss: 0.7255 - val_accuracy: 0.7455\n",
            "Epoch 12/50\n",
            "391/391 [==============================] - 3s 7ms/step - loss: 0.5821 - accuracy: 0.7992 - val_loss: 0.6859 - val_accuracy: 0.7633\n",
            "Epoch 13/50\n",
            "391/391 [==============================] - 3s 7ms/step - loss: 0.5685 - accuracy: 0.8047 - val_loss: 0.6404 - val_accuracy: 0.7808\n",
            "Epoch 14/50\n",
            "391/391 [==============================] - 3s 7ms/step - loss: 0.5638 - accuracy: 0.8053 - val_loss: 0.6194 - val_accuracy: 0.7848\n",
            "Epoch 15/50\n",
            "391/391 [==============================] - 3s 8ms/step - loss: 0.5553 - accuracy: 0.8071 - val_loss: 0.6130 - val_accuracy: 0.7880\n",
            "Epoch 16/50\n",
            "391/391 [==============================] - 3s 7ms/step - loss: 0.5443 - accuracy: 0.8102 - val_loss: 0.5946 - val_accuracy: 0.7885\n",
            "Epoch 17/50\n",
            "391/391 [==============================] - 3s 6ms/step - loss: 0.5375 - accuracy: 0.8145 - val_loss: 0.5623 - val_accuracy: 0.8066\n",
            "Epoch 18/50\n",
            "391/391 [==============================] - 3s 6ms/step - loss: 0.5281 - accuracy: 0.8186 - val_loss: 0.6612 - val_accuracy: 0.7713\n",
            "Epoch 19/50\n",
            "391/391 [==============================] - 3s 7ms/step - loss: 0.5190 - accuracy: 0.8198 - val_loss: 0.5472 - val_accuracy: 0.8105\n",
            "Epoch 20/50\n",
            "391/391 [==============================] - 3s 7ms/step - loss: 0.5087 - accuracy: 0.8244 - val_loss: 0.5999 - val_accuracy: 0.7912\n",
            "Epoch 21/50\n",
            "391/391 [==============================] - 3s 6ms/step - loss: 0.4995 - accuracy: 0.8282 - val_loss: 0.5011 - val_accuracy: 0.8321\n",
            "Epoch 22/50\n",
            "391/391 [==============================] - 3s 7ms/step - loss: 0.4960 - accuracy: 0.8289 - val_loss: 0.4811 - val_accuracy: 0.8361\n",
            "Epoch 23/50\n",
            "391/391 [==============================] - 3s 7ms/step - loss: 0.4859 - accuracy: 0.8326 - val_loss: 0.5138 - val_accuracy: 0.8191\n",
            "Epoch 24/50\n",
            "391/391 [==============================] - 3s 8ms/step - loss: 0.4791 - accuracy: 0.8325 - val_loss: 0.4656 - val_accuracy: 0.8398\n",
            "Epoch 25/50\n",
            "391/391 [==============================] - 3s 7ms/step - loss: 0.4672 - accuracy: 0.8371 - val_loss: 0.4781 - val_accuracy: 0.8357\n",
            "Epoch 26/50\n",
            "391/391 [==============================] - 3s 7ms/step - loss: 0.4634 - accuracy: 0.8394 - val_loss: 0.5342 - val_accuracy: 0.8108\n",
            "Epoch 27/50\n",
            "391/391 [==============================] - 3s 7ms/step - loss: 0.4568 - accuracy: 0.8419 - val_loss: 0.5000 - val_accuracy: 0.8301\n",
            "Epoch 28/50\n",
            "391/391 [==============================] - 3s 7ms/step - loss: 0.4504 - accuracy: 0.8434 - val_loss: 0.4376 - val_accuracy: 0.8523\n",
            "Epoch 29/50\n",
            "391/391 [==============================] - 3s 7ms/step - loss: 0.4399 - accuracy: 0.8473 - val_loss: 0.4180 - val_accuracy: 0.8592\n",
            "Epoch 30/50\n",
            "391/391 [==============================] - 3s 7ms/step - loss: 0.4367 - accuracy: 0.8477 - val_loss: 0.4081 - val_accuracy: 0.8627\n",
            "Epoch 31/50\n",
            "391/391 [==============================] - 3s 6ms/step - loss: 0.4280 - accuracy: 0.8507 - val_loss: 0.3812 - val_accuracy: 0.8726\n",
            "Epoch 32/50\n",
            "391/391 [==============================] - 3s 6ms/step - loss: 0.4177 - accuracy: 0.8527 - val_loss: 0.4104 - val_accuracy: 0.8603\n",
            "Epoch 33/50\n",
            "391/391 [==============================] - 3s 8ms/step - loss: 0.4161 - accuracy: 0.8539 - val_loss: 0.4470 - val_accuracy: 0.8434\n",
            "Epoch 34/50\n",
            "391/391 [==============================] - 3s 7ms/step - loss: 0.4104 - accuracy: 0.8594 - val_loss: 0.3615 - val_accuracy: 0.8816\n",
            "Epoch 35/50\n",
            "391/391 [==============================] - 3s 7ms/step - loss: 0.3980 - accuracy: 0.8603 - val_loss: 0.4131 - val_accuracy: 0.8605\n",
            "Epoch 36/50\n",
            "391/391 [==============================] - 3s 7ms/step - loss: 0.3971 - accuracy: 0.8617 - val_loss: 0.3660 - val_accuracy: 0.8757\n",
            "Epoch 37/50\n",
            "391/391 [==============================] - 3s 7ms/step - loss: 0.3876 - accuracy: 0.8642 - val_loss: 0.3494 - val_accuracy: 0.8829\n",
            "Epoch 38/50\n",
            "391/391 [==============================] - 3s 7ms/step - loss: 0.3832 - accuracy: 0.8665 - val_loss: 0.4171 - val_accuracy: 0.8552\n",
            "Epoch 39/50\n",
            "391/391 [==============================] - 2s 6ms/step - loss: 0.3794 - accuracy: 0.8666 - val_loss: 0.3887 - val_accuracy: 0.8682\n",
            "Epoch 40/50\n",
            "391/391 [==============================] - 3s 7ms/step - loss: 0.3740 - accuracy: 0.8700 - val_loss: 0.3179 - val_accuracy: 0.8962\n",
            "Epoch 41/50\n",
            "391/391 [==============================] - 3s 6ms/step - loss: 0.3658 - accuracy: 0.8722 - val_loss: 0.3072 - val_accuracy: 0.8954\n",
            "Epoch 42/50\n",
            "391/391 [==============================] - 3s 7ms/step - loss: 0.3616 - accuracy: 0.8740 - val_loss: 0.3255 - val_accuracy: 0.8930\n",
            "Epoch 43/50\n",
            "391/391 [==============================] - 3s 7ms/step - loss: 0.3568 - accuracy: 0.8757 - val_loss: 0.3317 - val_accuracy: 0.8849\n",
            "Epoch 44/50\n",
            "391/391 [==============================] - 3s 6ms/step - loss: 0.3524 - accuracy: 0.8774 - val_loss: 0.3512 - val_accuracy: 0.8791\n",
            "Epoch 45/50\n",
            "391/391 [==============================] - 3s 6ms/step - loss: 0.3486 - accuracy: 0.8791 - val_loss: 0.2804 - val_accuracy: 0.9066\n",
            "Epoch 46/50\n",
            "391/391 [==============================] - 3s 7ms/step - loss: 0.3375 - accuracy: 0.8821 - val_loss: 0.2848 - val_accuracy: 0.9071\n",
            "Epoch 47/50\n",
            "391/391 [==============================] - 3s 8ms/step - loss: 0.3348 - accuracy: 0.8841 - val_loss: 0.2494 - val_accuracy: 0.9222\n",
            "Epoch 48/50\n",
            "391/391 [==============================] - 3s 7ms/step - loss: 0.3370 - accuracy: 0.8821 - val_loss: 0.2325 - val_accuracy: 0.9265\n",
            "Epoch 49/50\n",
            "391/391 [==============================] - 3s 7ms/step - loss: 0.3245 - accuracy: 0.8862 - val_loss: 0.2415 - val_accuracy: 0.9251\n",
            "Epoch 50/50\n",
            "391/391 [==============================] - 3s 7ms/step - loss: 0.3223 - accuracy: 0.8866 - val_loss: 0.2757 - val_accuracy: 0.9080\n"
          ]
        }
      ],
      "source": [
        "#training my model on the complete dataset\n",
        "history = models.fit(x_train, y_train_vec, batch_size=128, epochs=50, validation_data=(x_val, y_val))"
      ]
    },
    {
      "cell_type": "code",
      "execution_count": 16,
      "metadata": {
        "id": "nFgU74IFjdzM",
        "colab": {
          "base_uri": "https://localhost:8080/",
          "height": 506
        },
        "outputId": "30a99e08-0dc1-4cb4-84cd-42f23952f3c5"
      },
      "outputs": [
        {
          "output_type": "stream",
          "name": "stdout",
          "text": [
            "313/313 [==============================] - 1s 3ms/step - loss: 1.1007 - accuracy: 0.6975\n",
            "Testing Accuracy: 69.75%\n"
          ]
        },
        {
          "output_type": "display_data",
          "data": {
            "text/plain": [
              "<Figure size 640x480 with 1 Axes>"
            ],
            "image/png": "[encoded data removed]"
          },
          "metadata": {}
        }
      ],
      "source": [
        "#plotting accuracy\n",
        "test_loss, test_accuracy = models.evaluate(x_test, y_test_vec)\n",
        "\n",
        "print(f\"Testing Accuracy: {test_accuracy * 100:.2f}%\")\n",
        "\n",
        "train_accuracy = history.history['accuracy']\n",
        "valid_accuracy = history.history['val_accuracy']\n",
        "plt.plot(epochs, train_accuracy, 'bo', label=\"Training Accuracy\")\n",
        "plt.plot(epochs, valid_accuracy, 'r', label=\"Validation Accuracy\")\n",
        "plt.title(\"Training and Validation Accuracy\")\n",
        "plt.xlabel(\"Epochs\")\n",
        "plt.ylabel(\"Accuracy\")\n",
        "plt.legend()\n",
        "plt.show()"
      ]
    },
    {
      "cell_type": "code",
      "execution_count": 17,
      "metadata": {
        "id": "7RAdsMv_QxXP",
        "colab": {
          "base_uri": "https://localhost:8080/"
        },
        "outputId": "636da440-0294-44b4-9a21-ce7db83a778e"
      },
      "outputs": [
        {
          "output_type": "stream",
          "name": "stdout",
          "text": [
            "Model: \"sequential_2\"\n",
            "_________________________________________________________________\n",
            " Layer (type)                Output Shape              Param #   \n",
            "=================================================================\n",
            " conv2d_4 (Conv2D)           (None, 30, 30, 32)        896       \n",
            "                                                                 \n",
            " batch_normalization (Batch  (None, 30, 30, 32)        128       \n",
            " Normalization)                                                  \n",
            "                                                                 \n",
            " activation (Activation)     (None, 30, 30, 32)        0         \n",
            "                                                                 \n",
            " max_pooling2d_4 (MaxPoolin  (None, 15, 15, 32)        0         \n",
            " g2D)                                                            \n",
            "                                                                 \n",
            " conv2d_5 (Conv2D)           (None, 12, 12, 64)        32832     \n",
            "                                                                 \n",
            " batch_normalization_1 (Bat  (None, 12, 12, 64)        256       \n",
            " chNormalization)                                                \n",
            "                                                                 \n",
            " activation_1 (Activation)   (None, 12, 12, 64)        0         \n",
            "                                                                 \n",
            " max_pooling2d_5 (MaxPoolin  (None, 6, 6, 64)          0         \n",
            " g2D)                                                            \n",
            "                                                                 \n",
            " flatten_2 (Flatten)         (None, 2304)              0         \n",
            "                                                                 \n",
            " dense_4 (Dense)             (None, 256)               590080    \n",
            "                                                                 \n",
            " batch_normalization_2 (Bat  (None, 256)               1024      \n",
            " chNormalization)                                                \n",
            "                                                                 \n",
            " activation_2 (Activation)   (None, 256)               0         \n",
            "                                                                 \n",
            " dense_5 (Dense)             (None, 10)                2570      \n",
            "                                                                 \n",
            "=================================================================\n",
            "Total params: 627786 (2.39 MB)\n",
            "Trainable params: 627082 (2.39 MB)\n",
            "Non-trainable params: 704 (2.75 KB)\n",
            "_________________________________________________________________\n"
          ]
        }
      ],
      "source": [
        "#BN LAYERER\n",
        "from keras.models import Sequential\n",
        "from keras.layers import Conv2D, MaxPooling2D, Flatten, Dense, BatchNormalization\n",
        "\n",
        "#build the model\n",
        "modelss = Sequential()\n",
        "\n",
        "modelss.add(Conv2D(32, (3, 3), input_shape=(32, 32, 3)))\n",
        "\n",
        "modelss.add(BatchNormalization())\n",
        "\n",
        "modelss.add(Activation('relu'))\n",
        "\n",
        "modelss.add(MaxPooling2D((2, 2)))\n",
        "\n",
        "modelss.add(Conv2D(64, (4, 4)))\n",
        "\n",
        "modelss.add(BatchNormalization())\n",
        "\n",
        "modelss.add(Activation('relu'))\n",
        "\n",
        "modelss.add(MaxPooling2D((2, 2)))\n",
        "\n",
        "modelss.add(Flatten())\n",
        "\n",
        "modelss.add(Dense(256))\n",
        "\n",
        "modelss.add(BatchNormalization())\n",
        "\n",
        "modelss.add(Activation('relu'))\n",
        "\n",
        "modelss.add(Dense(10, activation='softmax'))\n",
        "\n",
        "# Print the model summary\n",
        "modelss.summary()"
      ]
    },
    {
      "cell_type": "code",
      "execution_count": 18,
      "metadata": {
        "colab": {
          "base_uri": "https://localhost:8080/"
        },
        "id": "Gt5cuOxtwx3h",
        "outputId": "f5595919-6474-4999-9d01-a724d2d39e2c"
      },
      "outputs": [
        {
          "output_type": "stream",
          "name": "stdout",
          "text": [
            "Model: \"sequential_2\"\n",
            "_________________________________________________________________\n",
            " Layer (type)                Output Shape              Param #   \n",
            "=================================================================\n",
            " conv2d_4 (Conv2D)           (None, 30, 30, 32)        896       \n",
            "                                                                 \n",
            " batch_normalization (Batch  (None, 30, 30, 32)        128       \n",
            " Normalization)                                                  \n",
            "                                                                 \n",
            " activation (Activation)     (None, 30, 30, 32)        0         \n",
            "                                                                 \n",
            " max_pooling2d_4 (MaxPoolin  (None, 15, 15, 32)        0         \n",
            " g2D)                                                            \n",
            "                                                                 \n",
            " conv2d_5 (Conv2D)           (None, 12, 12, 64)        32832     \n",
            "                                                                 \n",
            " batch_normalization_1 (Bat  (None, 12, 12, 64)        256       \n",
            " chNormalization)                                                \n",
            "                                                                 \n",
            " activation_1 (Activation)   (None, 12, 12, 64)        0         \n",
            "                                                                 \n",
            " max_pooling2d_5 (MaxPoolin  (None, 6, 6, 64)          0         \n",
            " g2D)                                                            \n",
            "                                                                 \n",
            " flatten_2 (Flatten)         (None, 2304)              0         \n",
            "                                                                 \n",
            " dense_4 (Dense)             (None, 256)               590080    \n",
            "                                                                 \n",
            " batch_normalization_2 (Bat  (None, 256)               1024      \n",
            " chNormalization)                                                \n",
            "                                                                 \n",
            " activation_2 (Activation)   (None, 256)               0         \n",
            "                                                                 \n",
            " dense_5 (Dense)             (None, 10)                2570      \n",
            "                                                                 \n",
            "=================================================================\n",
            "Total params: 627786 (2.39 MB)\n",
            "Trainable params: 627082 (2.39 MB)\n",
            "Non-trainable params: 704 (2.75 KB)\n",
            "_________________________________________________________________\n"
          ]
        }
      ],
      "source": [
        "#compiling\n",
        "from keras import optimizers\n",
        "\n",
        "modelss.compile(optimizers.RMSprop(learning_rate =0.0001), loss = 'categorical_crossentropy', metrics=['accuracy'])\n",
        "\n",
        "modelss.summary()"
      ]
    },
    {
      "cell_type": "code",
      "execution_count": 19,
      "metadata": {
        "colab": {
          "base_uri": "https://localhost:8080/"
        },
        "id": "vV-w5bMuw2vr",
        "outputId": "b9e33dff-da35-44ad-de03-752441b5dbc5"
      },
      "outputs": [
        {
          "output_type": "stream",
          "name": "stdout",
          "text": [
            "Epoch 1/50\n",
            "313/313 [==============================] - 6s 9ms/step - loss: 1.4962 - accuracy: 0.4735 - val_loss: 1.3515 - val_accuracy: 0.5189\n",
            "Epoch 2/50\n",
            "313/313 [==============================] - 2s 7ms/step - loss: 1.1129 - accuracy: 0.6155 - val_loss: 1.1499 - val_accuracy: 0.5974\n",
            "Epoch 3/50\n",
            "313/313 [==============================] - 2s 7ms/step - loss: 0.9647 - accuracy: 0.6743 - val_loss: 1.0616 - val_accuracy: 0.6303\n",
            "Epoch 4/50\n",
            "313/313 [==============================] - 3s 9ms/step - loss: 0.8624 - accuracy: 0.7119 - val_loss: 0.9912 - val_accuracy: 0.6555\n",
            "Epoch 5/50\n",
            "313/313 [==============================] - 2s 7ms/step - loss: 0.7874 - accuracy: 0.7397 - val_loss: 0.9656 - val_accuracy: 0.6664\n",
            "Epoch 6/50\n",
            "313/313 [==============================] - 2s 7ms/step - loss: 0.7193 - accuracy: 0.7670 - val_loss: 0.9670 - val_accuracy: 0.6647\n",
            "Epoch 7/50\n",
            "313/313 [==============================] - 2s 7ms/step - loss: 0.6631 - accuracy: 0.7890 - val_loss: 0.9228 - val_accuracy: 0.6764\n",
            "Epoch 8/50\n",
            "313/313 [==============================] - 2s 8ms/step - loss: 0.6113 - accuracy: 0.8057 - val_loss: 0.9524 - val_accuracy: 0.6720\n",
            "Epoch 9/50\n",
            "313/313 [==============================] - 3s 9ms/step - loss: 0.5636 - accuracy: 0.8249 - val_loss: 0.9341 - val_accuracy: 0.6746\n",
            "Epoch 10/50\n",
            "313/313 [==============================] - 2s 8ms/step - loss: 0.5165 - accuracy: 0.8453 - val_loss: 0.9182 - val_accuracy: 0.6842\n",
            "Epoch 11/50\n",
            "313/313 [==============================] - 2s 7ms/step - loss: 0.4750 - accuracy: 0.8603 - val_loss: 0.9120 - val_accuracy: 0.6875\n",
            "Epoch 12/50\n",
            "313/313 [==============================] - 2s 7ms/step - loss: 0.4340 - accuracy: 0.8779 - val_loss: 0.9488 - val_accuracy: 0.6786\n",
            "Epoch 13/50\n",
            "313/313 [==============================] - 2s 8ms/step - loss: 0.3982 - accuracy: 0.8911 - val_loss: 0.9391 - val_accuracy: 0.6858\n",
            "Epoch 14/50\n",
            "313/313 [==============================] - 3s 9ms/step - loss: 0.3618 - accuracy: 0.9061 - val_loss: 0.9550 - val_accuracy: 0.6780\n",
            "Epoch 15/50\n",
            "313/313 [==============================] - 2s 8ms/step - loss: 0.3293 - accuracy: 0.9181 - val_loss: 0.9709 - val_accuracy: 0.6781\n",
            "Epoch 16/50\n",
            "313/313 [==============================] - 2s 7ms/step - loss: 0.2977 - accuracy: 0.9301 - val_loss: 0.9470 - val_accuracy: 0.6891\n",
            "Epoch 17/50\n",
            "313/313 [==============================] - 2s 7ms/step - loss: 0.2693 - accuracy: 0.9402 - val_loss: 1.0108 - val_accuracy: 0.6764\n",
            "Epoch 18/50\n",
            "313/313 [==============================] - 2s 8ms/step - loss: 0.2425 - accuracy: 0.9499 - val_loss: 1.0577 - val_accuracy: 0.6608\n",
            "Epoch 19/50\n",
            "313/313 [==============================] - 3s 9ms/step - loss: 0.2192 - accuracy: 0.9582 - val_loss: 0.9946 - val_accuracy: 0.6829\n",
            "Epoch 20/50\n",
            "313/313 [==============================] - 2s 7ms/step - loss: 0.1948 - accuracy: 0.9666 - val_loss: 1.0258 - val_accuracy: 0.6745\n",
            "Epoch 21/50\n",
            "313/313 [==============================] - 2s 7ms/step - loss: 0.1739 - accuracy: 0.9725 - val_loss: 1.0077 - val_accuracy: 0.6885\n",
            "Epoch 22/50\n",
            "313/313 [==============================] - 2s 7ms/step - loss: 0.1541 - accuracy: 0.9773 - val_loss: 1.0166 - val_accuracy: 0.6881\n",
            "Epoch 23/50\n",
            "313/313 [==============================] - 3s 10ms/step - loss: 0.1365 - accuracy: 0.9816 - val_loss: 1.0826 - val_accuracy: 0.6724\n",
            "Epoch 24/50\n",
            "313/313 [==============================] - 3s 10ms/step - loss: 0.1205 - accuracy: 0.9850 - val_loss: 1.1598 - val_accuracy: 0.6630\n",
            "Epoch 25/50\n",
            "313/313 [==============================] - 2s 7ms/step - loss: 0.1075 - accuracy: 0.9880 - val_loss: 1.1472 - val_accuracy: 0.6721\n",
            "Epoch 26/50\n",
            "313/313 [==============================] - 2s 7ms/step - loss: 0.0947 - accuracy: 0.9900 - val_loss: 1.1721 - val_accuracy: 0.6652\n",
            "Epoch 27/50\n",
            "313/313 [==============================] - 2s 8ms/step - loss: 0.0824 - accuracy: 0.9926 - val_loss: 1.1350 - val_accuracy: 0.6770\n",
            "Epoch 28/50\n",
            "313/313 [==============================] - 2s 8ms/step - loss: 0.0725 - accuracy: 0.9946 - val_loss: 1.1725 - val_accuracy: 0.6709\n",
            "Epoch 29/50\n",
            "313/313 [==============================] - 3s 9ms/step - loss: 0.0637 - accuracy: 0.9955 - val_loss: 1.2095 - val_accuracy: 0.6735\n",
            "Epoch 30/50\n",
            "313/313 [==============================] - 2s 8ms/step - loss: 0.0568 - accuracy: 0.9962 - val_loss: 1.1989 - val_accuracy: 0.6744\n",
            "Epoch 31/50\n",
            "313/313 [==============================] - 2s 7ms/step - loss: 0.0494 - accuracy: 0.9971 - val_loss: 1.2016 - val_accuracy: 0.6772\n",
            "Epoch 32/50\n",
            "313/313 [==============================] - 2s 8ms/step - loss: 0.0439 - accuracy: 0.9975 - val_loss: 1.2281 - val_accuracy: 0.6811\n",
            "Epoch 33/50\n",
            "313/313 [==============================] - 2s 8ms/step - loss: 0.0382 - accuracy: 0.9983 - val_loss: 1.2847 - val_accuracy: 0.6741\n",
            "Epoch 34/50\n",
            "313/313 [==============================] - 3s 9ms/step - loss: 0.0340 - accuracy: 0.9986 - val_loss: 1.3192 - val_accuracy: 0.6685\n",
            "Epoch 35/50\n",
            "313/313 [==============================] - 2s 8ms/step - loss: 0.0302 - accuracy: 0.9988 - val_loss: 1.3609 - val_accuracy: 0.6655\n",
            "Epoch 36/50\n",
            "313/313 [==============================] - 2s 8ms/step - loss: 0.0269 - accuracy: 0.9991 - val_loss: 1.4327 - val_accuracy: 0.6621\n",
            "Epoch 37/50\n",
            "313/313 [==============================] - 2s 8ms/step - loss: 0.0238 - accuracy: 0.9992 - val_loss: 1.3344 - val_accuracy: 0.6746\n",
            "Epoch 38/50\n",
            "313/313 [==============================] - 3s 8ms/step - loss: 0.0212 - accuracy: 0.9994 - val_loss: 1.4513 - val_accuracy: 0.6645\n",
            "Epoch 39/50\n",
            "313/313 [==============================] - 3s 9ms/step - loss: 0.0186 - accuracy: 0.9994 - val_loss: 1.3442 - val_accuracy: 0.6801\n",
            "Epoch 40/50\n",
            "313/313 [==============================] - 2s 7ms/step - loss: 0.0168 - accuracy: 0.9997 - val_loss: 1.3948 - val_accuracy: 0.6744\n",
            "Epoch 41/50\n",
            "313/313 [==============================] - 2s 7ms/step - loss: 0.0151 - accuracy: 0.9995 - val_loss: 1.4250 - val_accuracy: 0.6773\n",
            "Epoch 42/50\n",
            "313/313 [==============================] - 2s 7ms/step - loss: 0.0132 - accuracy: 0.9998 - val_loss: 1.4437 - val_accuracy: 0.6739\n",
            "Epoch 43/50\n",
            "313/313 [==============================] - 3s 8ms/step - loss: 0.0119 - accuracy: 0.9998 - val_loss: 1.4975 - val_accuracy: 0.6654\n",
            "Epoch 44/50\n",
            "313/313 [==============================] - 3s 8ms/step - loss: 0.0111 - accuracy: 0.9997 - val_loss: 1.5518 - val_accuracy: 0.6626\n",
            "Epoch 45/50\n",
            "313/313 [==============================] - 2s 8ms/step - loss: 0.0101 - accuracy: 0.9996 - val_loss: 1.6817 - val_accuracy: 0.6555\n",
            "Epoch 46/50\n",
            "313/313 [==============================] - 2s 8ms/step - loss: 0.0089 - accuracy: 0.9997 - val_loss: 1.7306 - val_accuracy: 0.6498\n",
            "Epoch 47/50\n",
            "313/313 [==============================] - 2s 8ms/step - loss: 0.0081 - accuracy: 0.9998 - val_loss: 1.5223 - val_accuracy: 0.6717\n",
            "Epoch 48/50\n",
            "313/313 [==============================] - 3s 8ms/step - loss: 0.0077 - accuracy: 0.9998 - val_loss: 1.5430 - val_accuracy: 0.6702\n",
            "Epoch 49/50\n",
            "313/313 [==============================] - 3s 9ms/step - loss: 0.0067 - accuracy: 0.9997 - val_loss: 1.6107 - val_accuracy: 0.6642\n",
            "Epoch 50/50\n",
            "313/313 [==============================] - 2s 7ms/step - loss: 0.0062 - accuracy: 0.9999 - val_loss: 1.7968 - val_accuracy: 0.6489\n"
          ]
        }
      ],
      "source": [
        "#training on partial dataset\n",
        "history = modelss.fit(x_tr, y_tr, batch_size=128, epochs=50, validation_data=(x_val, y_val))"
      ]
    },
    {
      "cell_type": "code",
      "execution_count": 20,
      "metadata": {
        "id": "iknx6ghSw9FE",
        "colab": {
          "base_uri": "https://localhost:8080/",
          "height": 472
        },
        "outputId": "f26a9358-e491-4f7a-99e6-b0b54383d051"
      },
      "outputs": [
        {
          "output_type": "display_data",
          "data": {
            "text/plain": [
              "<Figure size 640x480 with 1 Axes>"
            ],
            "image/png": "[encoded data removed]"
          },
          "metadata": {}
        }
      ],
      "source": [
        "#plotting loss\n",
        "train_loss = history.history['loss']\n",
        "valid_loss = history.history['val_loss']\n",
        "\n",
        "epochs = range(1, len(train_loss) + 1)\n",
        "\n",
        "plt.plot(epochs, train_loss, 'bo', label = \"Training Accuracy\")\n",
        "plt.plot(epochs, valid_loss, 'r', label = 'Validation Accurcy')\n",
        "plt.title(\"Training and Validation Loss\")\n",
        "plt.xlabel('Epochs')\n",
        "plt.ylabel('Loss')\n",
        "plt.legend()\n",
        "plt.show()"
      ]
    },
    {
      "cell_type": "code",
      "execution_count": 21,
      "metadata": {
        "id": "CC1kx1hTxB6K",
        "colab": {
          "base_uri": "https://localhost:8080/"
        },
        "outputId": "2f8a18e6-d63c-47e9-c6dd-dac801798a5c"
      },
      "outputs": [
        {
          "output_type": "stream",
          "name": "stdout",
          "text": [
            "Epoch 1/50\n",
            "391/391 [==============================] - 3s 8ms/step - loss: 0.3141 - accuracy: 0.9325 - val_loss: 0.9319 - val_accuracy: 0.7522\n",
            "Epoch 2/50\n",
            "391/391 [==============================] - 3s 8ms/step - loss: 0.1879 - accuracy: 0.9513 - val_loss: 0.4704 - val_accuracy: 0.8572\n",
            "Epoch 3/50\n",
            "391/391 [==============================] - 3s 8ms/step - loss: 0.1257 - accuracy: 0.9650 - val_loss: 0.2921 - val_accuracy: 0.9074\n",
            "Epoch 4/50\n",
            "391/391 [==============================] - 3s 7ms/step - loss: 0.0884 - accuracy: 0.9770 - val_loss: 0.2353 - val_accuracy: 0.9175\n",
            "Epoch 5/50\n",
            "391/391 [==============================] - 3s 7ms/step - loss: 0.0647 - accuracy: 0.9852 - val_loss: 0.1283 - val_accuracy: 0.9655\n",
            "Epoch 6/50\n",
            "391/391 [==============================] - 3s 9ms/step - loss: 0.0500 - accuracy: 0.9905 - val_loss: 0.1031 - val_accuracy: 0.9758\n",
            "Epoch 7/50\n",
            "391/391 [==============================] - 3s 8ms/step - loss: 0.0399 - accuracy: 0.9937 - val_loss: 0.1235 - val_accuracy: 0.9636\n",
            "Epoch 8/50\n",
            "391/391 [==============================] - 3s 7ms/step - loss: 0.0318 - accuracy: 0.9960 - val_loss: 0.1022 - val_accuracy: 0.9719\n",
            "Epoch 9/50\n",
            "391/391 [==============================] - 3s 7ms/step - loss: 0.0268 - accuracy: 0.9972 - val_loss: 0.0511 - val_accuracy: 0.9922\n",
            "Epoch 10/50\n",
            "391/391 [==============================] - 3s 8ms/step - loss: 0.0229 - accuracy: 0.9978 - val_loss: 0.0373 - val_accuracy: 0.9960\n",
            "Epoch 11/50\n",
            "391/391 [==============================] - 3s 8ms/step - loss: 0.0199 - accuracy: 0.9985 - val_loss: 0.0264 - val_accuracy: 0.9985\n",
            "Epoch 12/50\n",
            "391/391 [==============================] - 3s 7ms/step - loss: 0.0167 - accuracy: 0.9991 - val_loss: 0.0223 - val_accuracy: 0.9990\n",
            "Epoch 13/50\n",
            "391/391 [==============================] - 3s 7ms/step - loss: 0.0155 - accuracy: 0.9989 - val_loss: 0.0418 - val_accuracy: 0.9929\n",
            "Epoch 14/50\n",
            "391/391 [==============================] - 3s 9ms/step - loss: 0.0136 - accuracy: 0.9991 - val_loss: 0.0625 - val_accuracy: 0.9827\n",
            "Epoch 15/50\n",
            "391/391 [==============================] - 3s 8ms/step - loss: 0.0121 - accuracy: 0.9993 - val_loss: 0.0229 - val_accuracy: 0.9974\n",
            "Epoch 16/50\n",
            "391/391 [==============================] - 3s 7ms/step - loss: 0.0117 - accuracy: 0.9992 - val_loss: 0.0178 - val_accuracy: 0.9988\n",
            "Epoch 17/50\n",
            "391/391 [==============================] - 3s 7ms/step - loss: 0.0100 - accuracy: 0.9995 - val_loss: 0.0274 - val_accuracy: 0.9961\n",
            "Epoch 18/50\n",
            "391/391 [==============================] - 3s 8ms/step - loss: 0.0088 - accuracy: 0.9996 - val_loss: 0.1583 - val_accuracy: 0.9433\n",
            "Epoch 19/50\n",
            "391/391 [==============================] - 3s 8ms/step - loss: 0.0080 - accuracy: 0.9998 - val_loss: 0.0437 - val_accuracy: 0.9891\n",
            "Epoch 20/50\n",
            "391/391 [==============================] - 3s 7ms/step - loss: 0.0071 - accuracy: 0.9997 - val_loss: 0.0108 - val_accuracy: 0.9994\n",
            "Epoch 21/50\n",
            "391/391 [==============================] - 3s 7ms/step - loss: 0.0064 - accuracy: 0.9998 - val_loss: 0.0101 - val_accuracy: 0.9998\n",
            "Epoch 22/50\n",
            "391/391 [==============================] - 3s 8ms/step - loss: 0.0061 - accuracy: 0.9998 - val_loss: 0.0115 - val_accuracy: 0.9994\n",
            "Epoch 23/50\n",
            "391/391 [==============================] - 3s 8ms/step - loss: 0.0057 - accuracy: 0.9997 - val_loss: 0.0074 - val_accuracy: 0.9999\n",
            "Epoch 24/50\n",
            "391/391 [==============================] - 3s 7ms/step - loss: 0.0052 - accuracy: 0.9999 - val_loss: 0.0107 - val_accuracy: 0.9994\n",
            "Epoch 25/50\n",
            "391/391 [==============================] - 3s 7ms/step - loss: 0.0048 - accuracy: 0.9997 - val_loss: 0.0353 - val_accuracy: 0.9903\n",
            "Epoch 26/50\n",
            "391/391 [==============================] - 3s 8ms/step - loss: 0.0042 - accuracy: 0.9999 - val_loss: 0.0082 - val_accuracy: 0.9994\n",
            "Epoch 27/50\n",
            "391/391 [==============================] - 3s 8ms/step - loss: 0.0040 - accuracy: 0.9999 - val_loss: 0.0042 - val_accuracy: 1.0000\n",
            "Epoch 28/50\n",
            "391/391 [==============================] - 3s 7ms/step - loss: 0.0037 - accuracy: 0.9999 - val_loss: 0.0065 - val_accuracy: 0.9998\n",
            "Epoch 29/50\n",
            "391/391 [==============================] - 3s 7ms/step - loss: 0.0032 - accuracy: 1.0000 - val_loss: 0.0069 - val_accuracy: 1.0000\n",
            "Epoch 30/50\n",
            "391/391 [==============================] - 3s 9ms/step - loss: 0.0029 - accuracy: 1.0000 - val_loss: 0.0234 - val_accuracy: 0.9947\n",
            "Epoch 31/50\n",
            "391/391 [==============================] - 3s 8ms/step - loss: 0.0028 - accuracy: 0.9999 - val_loss: 0.0088 - val_accuracy: 0.9986\n",
            "Epoch 32/50\n",
            "391/391 [==============================] - 3s 7ms/step - loss: 0.0025 - accuracy: 0.9999 - val_loss: 0.0048 - val_accuracy: 0.9999\n",
            "Epoch 33/50\n",
            "391/391 [==============================] - 3s 7ms/step - loss: 0.0021 - accuracy: 1.0000 - val_loss: 0.0053 - val_accuracy: 0.9998\n",
            "Epoch 34/50\n",
            "391/391 [==============================] - 3s 8ms/step - loss: 0.0022 - accuracy: 0.9999 - val_loss: 0.0075 - val_accuracy: 0.9993\n",
            "Epoch 35/50\n",
            "391/391 [==============================] - 3s 8ms/step - loss: 0.0027 - accuracy: 0.9997 - val_loss: 0.0044 - val_accuracy: 0.9998\n",
            "Epoch 36/50\n",
            "391/391 [==============================] - 3s 7ms/step - loss: 0.0017 - accuracy: 1.0000 - val_loss: 0.0017 - val_accuracy: 1.0000\n",
            "Epoch 37/50\n",
            "391/391 [==============================] - 3s 7ms/step - loss: 0.0017 - accuracy: 0.9999 - val_loss: 0.0021 - val_accuracy: 1.0000\n",
            "Epoch 38/50\n",
            "391/391 [==============================] - 3s 8ms/step - loss: 0.0014 - accuracy: 1.0000 - val_loss: 0.0042 - val_accuracy: 0.9999\n",
            "Epoch 39/50\n",
            "391/391 [==============================] - 3s 8ms/step - loss: 0.0017 - accuracy: 0.9999 - val_loss: 0.0141 - val_accuracy: 0.9971\n",
            "Epoch 40/50\n",
            "391/391 [==============================] - 3s 7ms/step - loss: 0.0016 - accuracy: 1.0000 - val_loss: 0.0013 - val_accuracy: 1.0000\n",
            "Epoch 41/50\n",
            "391/391 [==============================] - 3s 8ms/step - loss: 0.0014 - accuracy: 1.0000 - val_loss: 9.0214e-04 - val_accuracy: 1.0000\n",
            "Epoch 42/50\n",
            "391/391 [==============================] - 3s 9ms/step - loss: 0.0013 - accuracy: 1.0000 - val_loss: 0.0019 - val_accuracy: 1.0000\n",
            "Epoch 43/50\n",
            "391/391 [==============================] - 3s 8ms/step - loss: 0.0011 - accuracy: 1.0000 - val_loss: 8.3594e-04 - val_accuracy: 1.0000\n",
            "Epoch 44/50\n",
            "391/391 [==============================] - 3s 7ms/step - loss: 0.0012 - accuracy: 1.0000 - val_loss: 0.0026 - val_accuracy: 1.0000\n",
            "Epoch 45/50\n",
            "391/391 [==============================] - 3s 7ms/step - loss: 0.0012 - accuracy: 1.0000 - val_loss: 0.0014 - val_accuracy: 1.0000\n",
            "Epoch 46/50\n",
            "391/391 [==============================] - 3s 9ms/step - loss: 0.0010 - accuracy: 1.0000 - val_loss: 0.0016 - val_accuracy: 1.0000\n",
            "Epoch 47/50\n",
            "391/391 [==============================] - 3s 8ms/step - loss: 0.0011 - accuracy: 1.0000 - val_loss: 6.6457e-04 - val_accuracy: 1.0000\n",
            "Epoch 48/50\n",
            "391/391 [==============================] - 3s 7ms/step - loss: 9.7297e-04 - accuracy: 1.0000 - val_loss: 0.0015 - val_accuracy: 1.0000\n",
            "Epoch 49/50\n",
            "391/391 [==============================] - 3s 7ms/step - loss: 8.9974e-04 - accuracy: 1.0000 - val_loss: 9.0872e-04 - val_accuracy: 1.0000\n",
            "Epoch 50/50\n",
            "391/391 [==============================] - 3s 8ms/step - loss: 7.6295e-04 - accuracy: 1.0000 - val_loss: 0.0021 - val_accuracy: 1.0000\n"
          ]
        }
      ],
      "source": [
        "#training my model on the complete dataset\n",
        "history = modelss.fit(x_train, y_train_vec, batch_size=128, epochs=50, validation_data=(x_val, y_val))"
      ]
    },
    {
      "cell_type": "code",
      "execution_count": 22,
      "metadata": {
        "id": "SqLFCRp8xIXs",
        "colab": {
          "base_uri": "https://localhost:8080/",
          "height": 506
        },
        "outputId": "c3c4dff2-5555-4eaf-9e1c-ac5c0c37b966"
      },
      "outputs": [
        {
          "output_type": "stream",
          "name": "stdout",
          "text": [
            "313/313 [==============================] - 1s 3ms/step - loss: 1.8958 - accuracy: 0.6886\n",
            "Testing Accuracy: 68.86%\n"
          ]
        },
        {
          "output_type": "display_data",
          "data": {
            "text/plain": [
              "<Figure size 640x480 with 1 Axes>"
            ],
            "image/png": "[encoded data removed]"
          },
          "metadata": {}
        }
      ],
      "source": [
        "#plotting accuracy\n",
        "test_loss, test_accuracy = modelss.evaluate(x_test, y_test_vec)\n",
        "\n",
        "print(f\"Testing Accuracy: {test_accuracy * 100:.2f}%\")\n",
        "\n",
        "train_accuracy = history.history['accuracy']\n",
        "valid_accuracy = history.history['val_accuracy']\n",
        "plt.plot(epochs, train_accuracy, 'bo', label=\"Training Accuracy\")\n",
        "plt.plot(epochs, valid_accuracy, 'r', label=\"Validation Accuracy\")\n",
        "plt.title(\"Training and Validation Accuracy\")\n",
        "plt.xlabel(\"Epochs\")\n",
        "plt.ylabel(\"Accuracy\")\n",
        "plt.legend()\n",
        "plt.show()"
      ]
    }
  ],
  "metadata": {
    "accelerator": "GPU",
    "colab": {
      "gpuType": "T4",
      "provenance": []
    },
    "kernelspec": {
      "display_name": "Python 3",
      "name": "python3"
    },
    "language_info": {
      "codemirror_mode": {
        "name": "ipython",
        "version": 3
      },
      "file_extension": ".py",
      "mimetype": "text/x-python",
      "name": "python",
      "nbconvert_exporter": "python",
      "pygments_lexer": "ipython3",
      "version": "3.8.8"
    }
  },
  "nbformat": 4,
  "nbformat_minor": 0
}