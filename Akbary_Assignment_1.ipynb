{
  "cells": [
    {
      "cell_type": "markdown",
      "metadata": {
        "id": "r00Y1oDSAEnH"
      },
      "source": [
        "# HM1: Logistic Regression.\n",
        "\n",
        "### Name: Amena Akbary\n"
      ]
    },
    {
      "cell_type": "markdown",
      "metadata": {
        "id": "eY4MTsdQAEnL"
      },
      "source": [
        "#### For this assignment, you will build 6 models. You need to train Logistic Regression/Regularized Logistic Regression each with Batch Gradient Descent, Stochastic Gradient Descent and Mini Batch Gradient Descent. Also you should plot their objective values versus epochs and compare their training and testing accuracies. You will need to tune the parameters a little bit to obtain reasonable results.\n",
        "\n",
        "#### You do not have to follow the following procedure. You may implement your own functions and methods, but you need to show your results and plots."
      ]
    },
    {
      "cell_type": "code",
      "execution_count": 1,
      "metadata": {
        "id": "vT7exaccAEnL"
      },
      "outputs": [],
      "source": [
        "# Load Packages\n",
        "import numpy as np\n",
        "import pandas as pd\n",
        "from sklearn.model_selection import train_test_split\n",
        "# for my models\n",
        "from sklearn.linear_model import LogisticRegression\n",
        "# for optimization\n",
        "import scipy.optimize as opt\n",
        "# for plotting\n",
        "import matplotlib.pyplot as plt\n",
        "from sklearn.preprocessing import LabelEncoder\n",
        "from sklearn.preprocessing import StandardScaler\n",
        "from sklearn.metrics import accuracy_score"
      ]
    },
    {
      "cell_type": "markdown",
      "metadata": {
        "id": "D48Mrp_pAEnM"
      },
      "source": [
        "# 1. Data processing\n",
        "\n",
        "- Download the Breast Cancer dataset from canvas or from https://archive.ics.uci.edu/ml/datasets/breast+cancer+wisconsin+(diagnostic)\n",
        "- Load the data.\n",
        "- Preprocess the data."
      ]
    },
    {
      "cell_type": "markdown",
      "metadata": {
        "id": "fh4Bh47LAEnN"
      },
      "source": [
        "## 1.1. Load the data"
      ]
    },
    {
      "cell_type": "code",
      "execution_count": 2,
      "metadata": {
        "colab": {
          "base_uri": "https://localhost:8080/"
        },
        "id": "-LZWgiueAEnN",
        "outputId": "f06ddbc0-fb93-45b2-a61c-0a93944b952f"
      },
      "outputs": [
        {
          "output_type": "execute_result",
          "data": {
            "text/plain": [
              "array([1.799e+01, 1.038e+01, 1.228e+02, 1.001e+03, 1.184e-01, 2.776e-01,\n",
              "       3.001e-01, 1.471e-01, 2.419e-01, 7.871e-02, 1.095e+00, 9.053e-01,\n",
              "       8.589e+00, 1.534e+02, 6.399e-03, 4.904e-02, 5.373e-02, 1.587e-02,\n",
              "       3.003e-02, 6.193e-03, 2.538e+01, 1.733e+01, 1.846e+02, 2.019e+03,\n",
              "       1.622e-01, 6.656e-01, 7.119e-01, 2.654e-01, 4.601e-01, 1.189e-01])"
            ]
          },
          "metadata": {},
          "execution_count": 2
        }
      ],
      "source": [
        "# !pip install ucimlrepo\n",
        "\n",
        "# from ucimlrepo import fetch_ucirepo\n",
        "\n",
        "# # fetch dataset\n",
        "# breast_cancer_wisconsin_diagnostic = fetch_ucirepo(id=17)\n",
        "\n",
        "# # data (as pandas dataframes)\n",
        "# X = breast_cancer_wisconsin_diagnostic.data.features\n",
        "# y = breast_cancer_wisconsin_diagnostic.data.targets\n",
        "\n",
        "# # metadata\n",
        "# print(breast_cancer_wisconsin_diagnostic.metadata)\n",
        "\n",
        "# # variable information\n",
        "# print(breast_cancer_wisconsin_diagnostic.variables)\n",
        "\n",
        "file_path = \"/content/data.csv\"\n",
        "df = pd.read_csv(file_path)\n",
        "\n",
        "df['diagnosis'].replace({'B': 1, 'M': -1}, inplace = True)\n",
        "\n",
        "X = df.drop([\"diagnosis\", 'Unnamed: 32', 'id'], axis = 1).to_numpy()\n",
        "y = df[\"diagnosis\"].to_numpy()\n",
        "\n",
        "X[0]"
      ]
    },
    {
      "cell_type": "markdown",
      "metadata": {
        "id": "BqKmy49qAEnN"
      },
      "source": [
        "## 1.2 Examine and clean data"
      ]
    },
    {
      "cell_type": "code",
      "execution_count": 3,
      "metadata": {
        "id": "O9XjDMWfAEnO"
      },
      "outputs": [],
      "source": [
        "# Some columns may not be useful for the model (For example, the first column contains ID number which may be irrelavant).\n",
        "# You need to get rid of the ID number feature.\n",
        "# Also you should transform target labels in the second column from 'B' and 'M' to 1 and -1.\n",
        "\n",
        "# transform target labels\n",
        "# label_encoder = LabelEncoder() # function would convert categorical data into numerical data\n",
        "# y = label_encoder.fit_transform(y)\n",
        "# y = np.where(y == 0, 1, -1)\n",
        "# y = y.replace()\n",
        "# X = X.to_numpy()\n",
        "# y = y.to_numpy()\n",
        "\n",
        "# print(X.shape)\n",
        "# print(y.shape)"
      ]
    },
    {
      "cell_type": "markdown",
      "metadata": {
        "id": "xhoZv2WTAEnO"
      },
      "source": [
        "## 1.3. Partition to training and testing sets"
      ]
    },
    {
      "cell_type": "code",
      "execution_count": 4,
      "metadata": {
        "id": "KCAbhpPbAEnO"
      },
      "outputs": [],
      "source": [
        "# You can partition using 80% training data and 20% testing data. It is a commonly used ratio in machinel learning.\n",
        "# X = X.to_numpy(dtype='float16')\n",
        "# y = y.to_numpy(dtype='float16')\n",
        "x_train, x_test, y_train, y_test = train_test_split(X, y, test_size = 0.2, random_state = 42)\n",
        "# , test_size = 0.2, random_state = 42\n",
        "# random_state=42 is used to make sure data split is the same every time."
      ]
    },
    {
      "cell_type": "code",
      "source": [
        "x_train"
      ],
      "metadata": {
        "colab": {
          "base_uri": "https://localhost:8080/"
        },
        "id": "2ekVOPAkvayC",
        "outputId": "99a678c6-6b5d-425f-8026-242fdd12403f"
      },
      "execution_count": 5,
      "outputs": [
        {
          "output_type": "execute_result",
          "data": {
            "text/plain": [
              "array([[9.029e+00, 1.733e+01, 5.879e+01, ..., 1.750e-01, 4.228e-01,\n",
              "        1.175e-01],\n",
              "       [2.109e+01, 2.657e+01, 1.427e+02, ..., 2.903e-01, 4.098e-01,\n",
              "        1.284e-01],\n",
              "       [9.173e+00, 1.386e+01, 5.920e+01, ..., 5.087e-02, 3.282e-01,\n",
              "        8.490e-02],\n",
              "       ...,\n",
              "       [1.429e+01, 1.682e+01, 9.030e+01, ..., 3.333e-02, 2.458e-01,\n",
              "        6.120e-02],\n",
              "       [1.398e+01, 1.962e+01, 9.112e+01, ..., 1.827e-01, 3.179e-01,\n",
              "        1.055e-01],\n",
              "       [1.218e+01, 2.052e+01, 7.722e+01, ..., 7.431e-02, 2.694e-01,\n",
              "        6.878e-02]])"
            ]
          },
          "metadata": {},
          "execution_count": 5
        }
      ]
    },
    {
      "cell_type": "markdown",
      "metadata": {
        "id": "WIueem9IAEnP"
      },
      "source": [
        "## 1.4. Feature scaling"
      ]
    },
    {
      "cell_type": "markdown",
      "metadata": {
        "id": "PtalaId5AEnP"
      },
      "source": [
        "Use the standardization to trainsform both training and test features"
      ]
    },
    {
      "cell_type": "code",
      "execution_count": 6,
      "metadata": {
        "colab": {
          "base_uri": "https://localhost:8080/"
        },
        "id": "o6sZ8Kl8AEnP",
        "outputId": "fdbd7116-2589-442b-ff83-959dbf7b5515"
      },
      "outputs": [
        {
          "output_type": "stream",
          "name": "stdout",
          "text": [
            "test mean = \n",
            "[ 0.01364641  0.12253485  0.01783047  0.00720095  0.22116437  0.06872354\n",
            " -0.0062141   0.08392701  0.01148532  0.02830473  0.05569554  0.13066342\n",
            "  0.01883126  0.02811456  0.08484284 -0.04224439 -0.14455254 -0.07764354\n",
            " -0.0190853  -0.04580865  0.03540037  0.1165997   0.02366885  0.03165322\n",
            "  0.18107067  0.04910004 -0.05741471  0.03243137 -0.03375599  0.02182886]\n",
            "test std = \n",
            "[0.98431345 1.03563505 0.996237   0.95775565 1.03190362 1.03139701\n",
            " 1.01679871 1.09239913 0.98772373 0.89265057 0.89195878 1.08292998\n",
            " 0.87565931 0.79961637 0.90585062 0.79552757 0.62870432 0.89601551\n",
            " 1.05733888 0.71264305 1.02318884 1.06105793 1.03449232 1.01541716\n",
            " 0.93186461 1.07284763 0.98118663 1.03133888 0.89461526 1.05920895]\n"
          ]
        }
      ],
      "source": [
        "# Standardization\n",
        "scaler = StandardScaler()\n",
        "x_train = scaler.fit_transform(x_train)\n",
        "x_test = scaler.transform(x_test)\n",
        "# calculate mu and sig using the training set\n",
        "d = x_train.shape[1]\n",
        "mu = np.mean(x_train, axis=0).reshape(1, d)\n",
        "sig = np.std(x_train, axis=0).reshape(1, d)\n",
        "\n",
        "# transform the training features\n",
        "x_train = (x_train - mu) / (sig + 1E-6)\n",
        "\n",
        "# transform the test features\n",
        "x_test = (x_test - mu) / (sig + 1E-6)\n",
        "\n",
        "print('test mean = ')\n",
        "print(np.mean(x_test, axis=0))\n",
        "\n",
        "print('test std = ')\n",
        "print(np.std(x_test, axis=0))"
      ]
    },
    {
      "cell_type": "code",
      "execution_count": 7,
      "metadata": {
        "colab": {
          "base_uri": "https://localhost:8080/"
        },
        "id": "0dSnPMmBnrf8",
        "outputId": "78a869e1-a085-4696-bb19-53d00775e97e"
      },
      "outputs": [
        {
          "output_type": "stream",
          "name": "stdout",
          "text": [
            "[[-1.44075152 -0.43531903 -1.36208361 ...  0.93201147  2.09724007\n",
            "   1.88644826]\n",
            " [ 1.97409422  1.73302404  2.09166958 ...  2.6989442   1.89115864\n",
            "   2.49783598]\n",
            " [-1.39998062 -1.24962103 -1.34520792 ... -0.97023796  0.59760132\n",
            "   0.05789415]\n",
            " ...\n",
            " [ 0.04880187 -0.55500031 -0.0651254  ... -1.23903241 -0.70863793\n",
            "  -1.27145348]\n",
            " [-0.03896881  0.10207335 -0.03137403 ...  1.05001131  0.43432141\n",
            "   1.21336085]\n",
            " [-0.54860502  0.3132756  -0.60350094 ... -0.61102805 -0.33452086\n",
            "  -0.8462866 ]]\n"
          ]
        }
      ],
      "source": [
        "print(x_train)"
      ]
    },
    {
      "cell_type": "markdown",
      "metadata": {
        "id": "a_uu0rcKAEnP"
      },
      "source": [
        "# 2.  Logistic Regression Model\n",
        "\n",
        "The objective function is $Q (w; X, y) = \\frac{1}{n} \\sum_{i=1}^n \\log \\Big( 1 + \\exp \\big( - y_i x_i^T w \\big) \\Big) + \\frac{\\lambda}{2} \\| w \\|_2^2 $.\n",
        "\n",
        "When $\\lambda = 0$, the model is a regular logistric regression and when $\\lambda > 0$, it essentially becomes a regularized logistric regression."
      ]
    },
    {
      "cell_type": "code",
      "execution_count": 8,
      "metadata": {
        "id": "gjdAa5z_AEnQ"
      },
      "outputs": [],
      "source": [
        "# Calculate the objective function value, or loss\n",
        "# Inputs:\n",
        "#     w: weight: d-by-1 vector\n",
        "#     x: data: n-by-d matrix\n",
        "#     y: label: n-by-1 vector\n",
        "#     lam: regularization parameter: scalar\n",
        "# Return:\n",
        "#     objective function value, or loss (scalar)\n",
        "\n",
        "def objective(w, x, y, lam):\n",
        "    n = len(y) # computing the number of samples in the data set and the length of the target vector y\n",
        "    # print(n)\n",
        "    # print(x.shape)\n",
        "    # print(y.shape)\n",
        "    # print(w.shape)\n",
        "    # calculating the logistic loss\n",
        "    # print(-y * np.dot(x,w))\n",
        "    y = y.reshape(n, 1)\n",
        "    logistic_loss = np.log(1 + np.exp(-y * (x @ w))).mean()\n",
        "      # np.dot(x,w) = computing dot product of feature matrix x and weight vec w\n",
        "      # y* np.dot(x,w) = element wise product of the true labels y and the predictions\n",
        "      # np.exp(-y * ...) = compute expoential\n",
        "      # np.log(1 + np.exp ...) compute logistc loss for each sample\n",
        "\n",
        "    # calculating the L2 lregularization term\n",
        "    l2_regularization = 0.5 * lam * np.linalg.norm(w)**2\n",
        "      # mp.linalg.norm(w) = euclidean norm of w vector\n",
        "\n",
        "    # calculating total objective func value\n",
        "    objective_value = logistic_loss + l2_regularization\n",
        "    return objective_value"
      ]
    },
    {
      "cell_type": "code",
      "source": [
        "w_initial = np.zeros((d, 1)) # creating initial w vec filled with zeros, (d,1) = shape, d = features\n",
        "test = objective(w_initial, x_train, y_train, 0)\n",
        "print(test)"
      ],
      "metadata": {
        "colab": {
          "base_uri": "https://localhost:8080/"
        },
        "id": "yHHOCgJ5cl4O",
        "outputId": "34eb9168-9d17-4132-af84-b1ae83161499"
      },
      "execution_count": 9,
      "outputs": [
        {
          "output_type": "stream",
          "name": "stdout",
          "text": [
            "0.6931471805599453\n"
          ]
        }
      ]
    },
    {
      "cell_type": "code",
      "execution_count": 10,
      "metadata": {
        "colab": {
          "base_uri": "https://localhost:8080/"
        },
        "id": "Sgt3Vi1efO82",
        "outputId": "7ad81897-a42b-4b42-9a65-8b110c8a8bd4"
      },
      "outputs": [
        {
          "output_type": "stream",
          "name": "stdout",
          "text": [
            "Shape of w_initial: (30, 1)\n",
            "Initial objective function value = 0.6931471805599453\n"
          ]
        }
      ],
      "source": [
        "# Initialize w to have a stand point for optimization\n",
        "d = X.shape[1]  # Number of features\n",
        "w_initial = np.zeros((d, 1)) # creating initial w vec filled with zeros, (d,1) = shape, d = features\n",
        "\n",
        "print(\"Shape of w_initial:\", w_initial.shape)\n",
        "\n",
        "# Evaluate the objective function value at w_initial\n",
        "lam = 1E-6  # Regularization parameter 1 X 10^-6\n",
        "objval0 = objective(w_initial, X, y, lam)\n",
        "print('Initial objective function value =', objval0)"
      ]
    },
    {
      "cell_type": "markdown",
      "metadata": {
        "id": "kH_Onh2eAEnQ"
      },
      "source": [
        "# 3. Numerical optimization"
      ]
    },
    {
      "cell_type": "markdown",
      "metadata": {
        "id": "9MgnQrjKAEnQ"
      },
      "source": [
        "## 3.1. Gradient descent\n"
      ]
    },
    {
      "cell_type": "markdown",
      "metadata": {
        "id": "rZcoHSAeAEnR"
      },
      "source": [
        "The gradient at $w$ for regularized logistic regression is  $g = - \\frac{1}{n} \\sum_{i=1}^n \\frac{y_i x_i }{1 + \\exp ( y_i x_i^T w)} + \\lambda w$"
      ]
    },
    {
      "cell_type": "code",
      "execution_count": 11,
      "metadata": {
        "id": "FyycMqBXAEnR"
      },
      "outputs": [],
      "source": [
        "# Calculate the gradient\n",
        "# Inputs:\n",
        "#     w: weight: d-by-1 matrix\n",
        "#     x: data: n-by-d matrix\n",
        "#     y: label: n-by-1 matrix\n",
        "#     lam: regularization parameter: scalar\n",
        "# Return:\n",
        "#     g: gradient: d-by-1 matrix\n",
        "\n",
        "def gradient(w, x, y, lam):\n",
        "    n = len(y)\n",
        "    y = y.reshape(n, 1)\n",
        "\n",
        "    logistic_func = 1 / (1 + np.exp(y * np.dot(x,w)))\n",
        "    # gradient without regularization\n",
        "    gradient_wo_reg = -((x * y) * logistic_func).mean(axis=0)\n",
        "    # logistic_func will reshape to be a column vect to allow multiplication with y\n",
        "    # adding a regularization term\n",
        "    reg_term = lam * w.reshape(-1) # computes L2 reg form\n",
        "    # total gradient\n",
        "    g = gradient_wo_reg + reg_term\n",
        "    return g.reshape(d, 1)"
      ]
    },
    {
      "cell_type": "code",
      "source": [
        "gradient(w_initial, x_train, y_train, 0)"
      ],
      "metadata": {
        "colab": {
          "base_uri": "https://localhost:8080/"
        },
        "id": "LPfYkeF1dt59",
        "outputId": "b1e4bb36-d3ad-4a6c-d398-697598a0d0cd"
      },
      "execution_count": 12,
      "outputs": [
        {
          "output_type": "execute_result",
          "data": {
            "text/plain": [
              "array([[ 0.34696311],\n",
              "       [ 0.2011086 ],\n",
              "       [ 0.3536242 ],\n",
              "       [ 0.335897  ],\n",
              "       [ 0.18126085],\n",
              "       [ 0.28534753],\n",
              "       [ 0.33014281],\n",
              "       [ 0.3759743 ],\n",
              "       [ 0.16820821],\n",
              "       [-0.00691342],\n",
              "       [ 0.2609813 ],\n",
              "       [-0.00155863],\n",
              "       [ 0.25570766],\n",
              "       [ 0.24983798],\n",
              "       [-0.02808445],\n",
              "       [ 0.12290825],\n",
              "       [ 0.1043909 ],\n",
              "       [ 0.1837267 ],\n",
              "       [ 0.00228194],\n",
              "       [ 0.02016179],\n",
              "       [ 0.37037521],\n",
              "       [ 0.22587957],\n",
              "       [ 0.37446838],\n",
              "       [ 0.34928335],\n",
              "       [ 0.20794578],\n",
              "       [ 0.28454083],\n",
              "       [ 0.31404787],\n",
              "       [ 0.38117855],\n",
              "       [ 0.21275787],\n",
              "       [ 0.15123436]])"
            ]
          },
          "metadata": {},
          "execution_count": 12
        }
      ]
    },
    {
      "cell_type": "code",
      "execution_count": 13,
      "metadata": {
        "id": "7iWahaLiAEnR"
      },
      "outputs": [],
      "source": [
        "# Gradient descent for solving logistic regression\n",
        "# You will need to do iterative process (loops) to obtain optimal weights in this function\n",
        "\n",
        "# Inputs:\n",
        "#     x: data: n-by-d matrix\n",
        "#     y: label: n-by-1 matrix\n",
        "#     lam: scalar, the regularization parameter\n",
        "#     learning_rate: scalar\n",
        "#     w: weights: d-by-1 vector, initialization of w\n",
        "#     max_epoch: integer, the maximal epochs\n",
        "# Return:\n",
        "#     w: weights: d-by-1 vector, the solution\n",
        "#     objvals: a record of each epoch's objective value\n",
        "\n",
        "def gradient_descent(x, y, lam, learning_rate, w, max_epoch=100):\n",
        "    object_vals = [] # to hold record for each epoch\n",
        "\n",
        "    for epoch in range(max_epoch):\n",
        "      # cal gradient\n",
        "      # gradient = np.mean(-y * x / (1 + np.exp(y * np.dot(x,w))), axis = 0)[:, np.newaxis] + lam * w\n",
        "      gradients = gradient(w, x, y, lam)\n",
        "      object_val = objective(w, x, y, lam)\n",
        "      object_vals.append(object_val)\n",
        "      # print(gradients.shape)\n",
        "\n",
        "      # update weights\n",
        "      # print(w.shape)\n",
        "      w = w - (gradients * learning_rate)\n",
        "\n",
        "    return w, object_vals"
      ]
    },
    {
      "cell_type": "markdown",
      "metadata": {
        "id": "2IMsIgQhAEnR"
      },
      "source": [
        "Use gradient_descent function to obtain your optimal weights and a list of objective values over each epoch."
      ]
    },
    {
      "cell_type": "code",
      "execution_count": 47,
      "metadata": {
        "id": "6sS9mDTQAEnS"
      },
      "outputs": [],
      "source": [
        "# Train logistic regression\n",
        "# You should get the optimal weights and a list of objective values by using gradient_descent function.\n",
        "\n",
        "def train_log_regress(x_train, y_train):\n",
        "  # initializing weights\n",
        "  w_initial = np.zeros((x_train.shape[1],1)) # x_train.shape[1] = num of features\n",
        "\n",
        "  # setting hyperparameters\n",
        "  lam = 0\n",
        "  learning_rate = 0.01\n",
        "  max_epoch = 100\n",
        "\n",
        "  w_optimal, gd_objvals = gradient_descent(x_train, y_train, lam, learning_rate, w_initial, max_epoch)\n",
        "  # print(\"OBS:\")\n",
        "  # print(objvals)\n",
        "\n",
        "  return w_optimal, gd_objvals"
      ]
    },
    {
      "cell_type": "code",
      "source": [
        "w_w_w, gdd_objs = train_log_regress(x_train, y_train)\n",
        "print(w_w_w)"
      ],
      "metadata": {
        "colab": {
          "base_uri": "https://localhost:8080/"
        },
        "id": "0G23i9v5NxYt",
        "outputId": "a0465278-17c9-440d-d1ff-e4b5b21e6a9e"
      },
      "execution_count": 48,
      "outputs": [
        {
          "output_type": "stream",
          "name": "stdout",
          "text": [
            "[[-0.15604064]\n",
            " [-0.10333646]\n",
            " [-0.15722531]\n",
            " [-0.14971535]\n",
            " [-0.07013136]\n",
            " [-0.10165262]\n",
            " [-0.12977867]\n",
            " [-0.16139793]\n",
            " [-0.0609515 ]\n",
            " [ 0.02989494]\n",
            " [-0.11148114]\n",
            " [ 0.0045565 ]\n",
            " [-0.10471663]\n",
            " [-0.10531142]\n",
            " [ 0.01768637]\n",
            " [-0.01671764]\n",
            " [-0.00826545]\n",
            " [-0.05286774]\n",
            " [ 0.01090718]\n",
            " [ 0.02827668]\n",
            " [-0.16970763]\n",
            " [-0.11961543]\n",
            " [-0.16852282]\n",
            " [-0.15767151]\n",
            " [-0.09688244]\n",
            " [-0.1125943 ]\n",
            " [-0.12660875]\n",
            " [-0.16501667]\n",
            " [-0.10172351]\n",
            " [-0.05249824]]\n"
          ]
        }
      ]
    },
    {
      "cell_type": "code",
      "execution_count": 44,
      "metadata": {
        "id": "wO4fBJlVAEnS"
      },
      "outputs": [],
      "source": [
        "# Train regularized logistric regression\n",
        "# You should get the optimal weights and a list of objective values by using gradient_descent function.\n",
        "\n",
        "def train_reg_log_regg(x_train, y_train, lam):\n",
        "  w_initial = np.zeros((x_train.shape[1],1))\n",
        "\n",
        "  learning_rate = 0.1\n",
        "  max_epoch = 100\n",
        "\n",
        "  w_optimal, _ = gradient_descent(x_train, y_train.reshape(-1, 1), lam, learning_rate, w_initial, max_epoch)\n",
        "  # print(y_train.shape)\n",
        "\n",
        "  return w_optimal"
      ]
    },
    {
      "cell_type": "code",
      "execution_count": 46,
      "metadata": {
        "colab": {
          "base_uri": "https://localhost:8080/"
        },
        "id": "SndYo-UD9gqt",
        "outputId": "f0900a5f-fd2c-497f-faa4-9f4d7c0cd375"
      },
      "outputs": [
        {
          "output_type": "stream",
          "name": "stdout",
          "text": [
            "gd_objs\n",
            "[0.6931471805599453, 0.24744125798957817, 0.21256156585536454, 0.19087271340746753, 0.17589970770284602, 0.16480547725713937, 0.15615213828244637, 0.14914679091889954, 0.1433172964010029, 0.13836301290846387, 0.1340818795898875, 0.13033215778631055, 0.12701095194930606, 0.12404143704076574, 0.12136489320994846, 0.11893553846262025, 0.11671706346811066, 0.11468024122387846, 0.11280123744593958, 0.11106039054123508, 0.10944131393702732, 0.10793022445887517, 0.10651543225393346, 0.10518694814131495, 0.10393617763970538, 0.10275567987182516, 0.1016389756489918, 0.10058039327290164, 0.09957494357438207, 0.09861821784008583, 0.09770630382100512, 0.09683571614727425, 0.09600333831154294, 0.09520637401057634, 0.09444230610912877, 0.09370886185213459, 0.09300398322985863, 0.0923258016167895, 0.09167261597401355, 0.09104287403781769, 0.09043515602268824, 0.08984816045095506, 0.08928069178879644, 0.08873164962276564, 0.08820001915517187, 0.0876848628326727, 0.08718531295195656, 0.08670056511069973, 0.08622987239208268, 0.0857725401878434, 0.08532792157876566, 0.08489541320315068, 0.08447445155361114, 0.08406450965077977, 0.08366509404950861, 0.08327574213906153, 0.0828960197038501, 0.08252551871557273, 0.08216385533130811, 0.08181066807528535, 0.08146561618478344, 0.08112837810297001, 0.08079865010353073, 0.08047614503371073, 0.08016059116393003, 0.07985173113347696, 0.07954932098295622, 0.07925312926519498, 0.07896293622721044, 0.07867853305663444, 0.07839972118668673, 0.07812631165440449, 0.07785812450737789, 0.07759498825472398, 0.07733673935845704, 0.0770832217617929, 0.07683428645126225, 0.07658979104980854, 0.07634959943831408, 0.07611358140323829, 0.07588161230826648, 0.07565357278805979, 0.07542934846237051, 0.07520882966894106, 0.07499191121374565, 0.07477849213725941, 0.074568475495553, 0.07436176815511364, 0.07415828060038658, 0.07395792675311476, 0.07376062380263033, 0.07356629204632208, 0.07337485473956395, 0.07318623795444856, 0.07300037044672016, 0.07281718353035059, 0.07263661095924327, 0.07245858881559096, 0.07228305540444867, 0.07210995115411621]\n",
            "wei\n",
            "[[-0.11683315]\n",
            " [-0.08118478]\n",
            " [-0.11750976]\n",
            " [-0.11231396]\n",
            " [-0.05224719]\n",
            " [-0.0723216 ]\n",
            " [-0.09684149]\n",
            " [-0.12226873]\n",
            " [-0.04451725]\n",
            " [ 0.02487354]\n",
            " [-0.08514907]\n",
            " [ 0.00287968]\n",
            " [-0.07866575]\n",
            " [-0.07939083]\n",
            " [ 0.01011315]\n",
            " [-0.00643046]\n",
            " [-0.00022865]\n",
            " [-0.03577892]\n",
            " [ 0.00815421]\n",
            " [ 0.02624955]\n",
            " [-0.12851395]\n",
            " [-0.09481343]\n",
            " [-0.12698217]\n",
            " [-0.11916724]\n",
            " [-0.07640036]\n",
            " [-0.08343922]\n",
            " [-0.09492988]\n",
            " [-0.12469895]\n",
            " [-0.08057982]\n",
            " [-0.03974974]]\n",
            "\n"
          ]
        }
      ],
      "source": [
        "weights, gd_objs = gradient_descent(x_train,y_train, 0, 0.5, np.zeros((30, 1)))\n",
        "# print(type(x_train))\n",
        "# print(type(y_train))\n",
        "print(\"gd_objs\")\n",
        "print(gd_objs)\n",
        "\n",
        "wei = train_reg_log_regg(x_train,y_train,1)\n",
        "print(\"wei\")\n",
        "print(wei)\n",
        "print()"
      ]
    },
    {
      "cell_type": "markdown",
      "metadata": {
        "id": "dEkigJZcAEnS"
      },
      "source": [
        "## 3.2. Stochastic gradient descent (SGD)\n",
        "\n",
        "Define new objective function $Q_i (w) = \\log \\Big( 1 + \\exp \\big( - y_i x_i^T w \\big) \\Big) + \\frac{\\lambda}{2} \\| w \\|_2^2 $.\n",
        "\n",
        "The stochastic gradient at $w$ is $g_i = \\frac{\\partial Q_i }{ \\partial w} = -\\frac{y_i x_i }{1 + \\exp ( y_i x_i^T w)} + \\lambda w$.\n",
        "\n",
        "You may need to implement a new function to calculate the new objective function and gradients."
      ]
    },
    {
      "cell_type": "code",
      "execution_count": 18,
      "metadata": {
        "id": "ibHS64yBAEnS"
      },
      "outputs": [],
      "source": [
        "# Calculate the objective Q_i and the gradient of Q_i\n",
        "# Inputs:\n",
        "#     w: weights: d-by-1 matrix\n",
        "#     xi: data: 1-by-d matrix\n",
        "#     yi: label: scalar\n",
        "#     lam: scalar, the regularization parameter\n",
        "# Return:\n",
        "#     obj: scalar, the objective Q_i\n",
        "#     g: d-by-1 matrix, gradient of Q_i\n",
        "\n",
        "def stochastic_objective_gradient(w, xi, yi, lam):\n",
        "    xi = np.array(xi).reshape(-1, 1)\n",
        "    yi = np.array([yi]).reshape(-1, 1)\n",
        "\n",
        "    # Linear term\n",
        "    linear = np.dot(xi.T, w)\n",
        "    linear_clipped = np.clip(linear, -20, 20)\n",
        "\n",
        "    # Logistic loss\n",
        "    logistic_func = 1 / (1 + np.exp(-yi * linear_clipped) + 1e-8)\n",
        "\n",
        "    # Obj with clipping\n",
        "    obj = np.log(1 + np.exp(-yi * linear_clipped)) + 0.5 * lam * np.linalg.norm(w)**2\n",
        "\n",
        "    # Gradient with clipping\n",
        "    gradient_wo_reg = -yi * xi / (logistic_func + 1e-8)\n",
        "\n",
        "    gradient = gradient_wo_reg + lam * w\n",
        "\n",
        "    return np.sum(obj), gradient\n"
      ]
    },
    {
      "cell_type": "code",
      "execution_count": 19,
      "metadata": {
        "id": "6l-sIeDJs5C1"
      },
      "outputs": [],
      "source": [
        "cat = stochastic_objective_gradient(w_initial, x_train[0], y_train[0], 0)"
      ]
    },
    {
      "cell_type": "code",
      "execution_count": 20,
      "metadata": {
        "colab": {
          "base_uri": "https://localhost:8080/"
        },
        "id": "cC1fD_kDyrJu",
        "outputId": "8c2f53d3-b225-44ae-b72c-ee8ae8e6102c"
      },
      "outputs": [
        {
          "output_type": "execute_result",
          "data": {
            "text/plain": [
              "(30,)"
            ]
          },
          "metadata": {},
          "execution_count": 20
        }
      ],
      "source": [
        "x_train[0].shape\n",
        "# y_train.shape"
      ]
    },
    {
      "cell_type": "markdown",
      "metadata": {
        "id": "GaK1mjoNAEnT"
      },
      "source": [
        "Hints:\n",
        "1. In every epoch, randomly permute the $n$ samples.\n",
        "2. Each epoch has $n$ iterations. In every iteration, use 1 sample, and compute the gradient and objective using the ``stochastic_objective_gradient`` function. In the next iteration, use the next sample, and so on."
      ]
    },
    {
      "cell_type": "code",
      "execution_count": 21,
      "metadata": {
        "id": "4TD88BO2AEnT"
      },
      "outputs": [],
      "source": [
        "# SGD for solving logistic regression\n",
        "# You will need to do iterative process (loops) to obtain optimal weights in this function\n",
        "\n",
        "# Inputs:\n",
        "#     x: data: n-by-d matrix\n",
        "#     y: label: n-by-1 matrix\n",
        "#     lam: scalar, the regularization parameter\n",
        "#     learning_rate: scalar\n",
        "#     w: weights: d-by-1 matrix, initialization of w\n",
        "#     max_epoch: integer, the maximal epochs\n",
        "# Return:\n",
        "#\n",
        "#     w: weights: d-by-1 matrix, the solution\n",
        "#     objvals: a record of each epoch's objective value\n",
        "#     Record one objective value per epoch (not per iteration)\n",
        "\n",
        "def sgd(x, y, lam, learning_rate, w, max_epoch):\n",
        "    n = x.shape[0]\n",
        "    objvals = []\n",
        "\n",
        "    for epoch in range(max_epoch):\n",
        "        sum_obj = 0\n",
        "        perm = np.random.permutation(n)\n",
        "        x_shuffle = x[perm]\n",
        "        y_shuffle = y[perm]\n",
        "\n",
        "        for i in range(n):\n",
        "            xi = x_shuffle[i,:]\n",
        "            yi = y_shuffle[i]\n",
        "\n",
        "            obj, gradient = stochastic_objective_gradient(w, xi, yi, lam)\n",
        "\n",
        "            sum_obj += obj\n",
        "\n",
        "            w = w - learning_rate * gradient\n",
        "\n",
        "        objvals.append(sum_obj / n)\n",
        "\n",
        "\n",
        "    return w, objvals\n"
      ]
    },
    {
      "cell_type": "code",
      "source": [
        "# cats = sgd(x_train, y_train, 0, 0.0001, w_initial, max_epoch=100)\n",
        "# print(cats[1])"
      ],
      "metadata": {
        "id": "wczaKhcv16Nv"
      },
      "execution_count": 22,
      "outputs": []
    },
    {
      "cell_type": "markdown",
      "metadata": {
        "id": "Rp3IdDqiAEnT"
      },
      "source": [
        "Use sgd function to obtain your optimal weights and a list of objective values over each epoch."
      ]
    },
    {
      "cell_type": "code",
      "execution_count": 23,
      "metadata": {
        "colab": {
          "base_uri": "https://localhost:8080/"
        },
        "id": "OP-XiXSgAEnT",
        "outputId": "3c31f32b-c915-46b7-c451-898a26cbcabd"
      },
      "outputs": [
        {
          "output_type": "stream",
          "name": "stdout",
          "text": [
            "Optimal Weights:\n",
            "[[-1.37073732]\n",
            " [-1.63246706]\n",
            " [-1.36282828]\n",
            " [-1.34782311]\n",
            " [-1.27434267]\n",
            " [-0.32551021]\n",
            " [-1.06921636]\n",
            " [-1.86925103]\n",
            " [-0.07880714]\n",
            " [ 0.39866654]\n",
            " [-2.22779707]\n",
            " [-1.06221035]\n",
            " [-1.82111902]\n",
            " [-1.64945311]\n",
            " [ 0.92623462]\n",
            " [ 0.97933349]\n",
            " [ 0.45913744]\n",
            " [-0.96159576]\n",
            " [ 1.09132476]\n",
            " [ 0.96832899]\n",
            " [-1.83016767]\n",
            " [-2.08533134]\n",
            " [-1.70301552]\n",
            " [-1.70807318]\n",
            " [-1.08808069]\n",
            " [-0.49328103]\n",
            " [-1.07642433]\n",
            " [-2.04147139]\n",
            " [-0.42053974]\n",
            " [-0.0889762 ]]\n",
            "Objvals\n",
            "[0.5658603030377372, 0.41061281317157544, 0.3308209485885767, 0.28548800392207835, 0.2579662434509941, 0.24104192174824227, 0.2351985527002541, 0.2340695529807365, 0.23445299236392797, 0.24231116435749528, 0.24953869556562688, 0.2617902192135646, 0.27470045061725595, 0.2867765458646805, 0.30233266793428776, 0.32073233097062037, 0.33532365399730923, 0.3540072287373476, 0.37399207295587295, 0.39164997566701704, 0.41296678864147696, 0.427135005681968, 0.4508891059580243, 0.4672624502233536, 0.4852148557636079, 0.5081677840868979, 0.5342057121071552, 0.5572180244343456, 0.57347753551118, 0.6038183935415655, 0.6197891826563661, 0.644254102606625, 0.6700875351478697, 0.6952352762699598, 0.7220490270594162, 0.7508101449523854, 0.7691346211836256, 0.8021971015930699, 0.8281334210765112, 0.8564491678957367, 0.8767695009990484, 0.9095621438678311, 0.9375394624617989, 0.9654796771840944, 0.9925846962923911, 1.0282316540755385, 1.054607913195939, 1.0807333605577505, 1.112207598586039, 1.1438158979811945, 1.174854300328198, 1.2069641706980674, 1.2320860651384504, 1.2671880947404097, 1.2974159812109471, 1.3305444011993348, 1.3603761330916377, 1.3929966683298274, 1.420561973879232, 1.454699155033735, 1.4862716417579864, 1.5142347611499551, 1.550461502951738, 1.5815313760210712, 1.6116471816493418, 1.647986088281261, 1.6803230822729405, 1.7074686030537274, 1.741450771924641, 1.7749381163339222, 1.806250687671864, 1.8392720427771254, 1.8714811432030272, 1.9040095286547982, 1.9334089677104622, 1.9703531491016677, 2.0038332271893755, 2.0315579390776577, 2.058726102506462, 2.1011044323971215, 2.1249405378245245, 2.1583341712300745, 2.1937574452973885, 2.2243585312997407, 2.244982999377333, 2.281622109848514, 2.317865419081706, 2.3470756743929764, 2.3796102282594234, 2.4061597265964494, 2.4427077512436886, 2.466805674812697, 2.5073833265709498, 2.5259731504238663, 2.561413739123726, 2.5964442525154943, 2.621379248167155, 2.66184044512567, 2.6842263532935373, 2.7134032348342947]\n"
          ]
        }
      ],
      "source": [
        "# Train logistic regression\n",
        "# You should get the optimal weights and a list of objective values by using gradient_descent function.\n",
        "\n",
        "# Set hyperparameters\n",
        "lam = 0.1  # Regularization parameter\n",
        "learning_rate = 0.0001\n",
        "max_epoch = 100\n",
        "\n",
        "# # print(X[:5])\n",
        "# print(\"Shape of X:\", X.shape)\n",
        "# print(\"Shape of y:\", y.shape)\n",
        "\n",
        "# Train logistic regression using SGD\n",
        "w_w, sgd_objvals = sgd(x_train, y_train, lam, learning_rate, np.zeros((30, 1)), max_epoch)\n",
        "\n",
        "# Print optimal weights\n",
        "print(\"Optimal Weights:\")\n",
        "print(w_w)\n",
        "\n",
        "print(\"Objvals\")\n",
        "print(sgd_objvals)"
      ]
    },
    {
      "cell_type": "code",
      "execution_count": 24,
      "metadata": {
        "colab": {
          "base_uri": "https://localhost:8080/"
        },
        "id": "4vFxxcOuAEnU",
        "outputId": "e77f3d82-256e-4f07-98d3-f0f16fb43fed"
      },
      "outputs": [
        {
          "output_type": "stream",
          "name": "stdout",
          "text": [
            "Optimal Weights:\n",
            "[[-1.37222042]\n",
            " [-1.6343022 ]\n",
            " [-1.36443405]\n",
            " [-1.34924793]\n",
            " [-1.27517611]\n",
            " [-0.32800155]\n",
            " [-1.07120014]\n",
            " [-1.87076613]\n",
            " [-0.07824914]\n",
            " [ 0.39707294]\n",
            " [-2.22688954]\n",
            " [-1.0619502 ]\n",
            " [-1.82074786]\n",
            " [-1.64971685]\n",
            " [ 0.92322626]\n",
            " [ 0.97705625]\n",
            " [ 0.4584091 ]\n",
            " [-0.96116471]\n",
            " [ 1.08932728]\n",
            " [ 0.96680383]\n",
            " [-1.83118185]\n",
            " [-2.08749826]\n",
            " [-1.70420829]\n",
            " [-1.70914745]\n",
            " [-1.09105453]\n",
            " [-0.49504199]\n",
            " [-1.07795108]\n",
            " [-2.04198325]\n",
            " [-0.42211136]\n",
            " [-0.09142034]]\n",
            "Obj Vals\n",
            "[0.5655511924916952, 0.4103805464049415, 0.3301243149384363, 0.2851292087047253, 0.2571236300653884, 0.24248191014520334, 0.23521138656995338, 0.23336190949795968, 0.2347337328591321, 0.24149515083857614, 0.25167465530362815, 0.2606667533038233, 0.27334712745701056, 0.2874229117128186, 0.3042538727164023, 0.32062608918483126, 0.3351349842020027, 0.35395690907895033, 0.3722499336198824, 0.3944420650205978, 0.40843776455787273, 0.4281625314684034, 0.4500848405288435, 0.46980881633360816, 0.4860426178649721, 0.5081280134049121, 0.5302364431516006, 0.5574683545662914, 0.5754305535749186, 0.5995555893078497, 0.6224805864357572, 0.6433240876960629, 0.6720133105985158, 0.6955923119494372, 0.7202266686705473, 0.7494675119530989, 0.7739235871814536, 0.7983136772136764, 0.8228573185888317, 0.8545422040942199, 0.8809570818998604, 0.91103354856586, 0.9412366930324731, 0.9647764338201249, 0.9925614139111048, 1.0208678957785426, 1.0497846440257224, 1.0827369102204005, 1.1117288546115738, 1.141772613104593, 1.1769821626304906, 1.2101218350950063, 1.2318326691990367, 1.2641365115045655, 1.2920830615506531, 1.330005992458506, 1.3613256356285577, 1.3935422783627076, 1.4238353692258274, 1.451870060625998, 1.4891814382159299, 1.5170406096670181, 1.5483127187750891, 1.5811969804585773, 1.6124894873802005, 1.6494167099747779, 1.6765050802622685, 1.7155996024055078, 1.7368509736045419, 1.7804419856613984, 1.8064672098809922, 1.8423259999045847, 1.8707565478876842, 1.9009081829847925, 1.9325931000175105, 1.9664253292503064, 2.0047976587955327, 2.0364058435039554, 2.0599088401250496, 2.098495260847033, 2.1238934367020303, 2.1599606306445756, 2.189032050713955, 2.2202375442497377, 2.2491331344995724, 2.287346723646741, 2.3174902120971574, 2.3493600765478737, 2.3808777358186344, 2.4077872987076123, 2.4377398881203174, 2.4703100281327375, 2.5024956182003733, 2.530658607770829, 2.564343350926775, 2.592929309617293, 2.624103200744107, 2.653854489312471, 2.6865899585396416, 2.7176588874224357]\n"
          ]
        }
      ],
      "source": [
        "# Train regularized logistic regression\n",
        "# You should get the optimal weights and a list of objective values by using gradient_descent function.\n",
        "# cats = sgd(x_train, y_train, 0, 0.0001, w_initial, max_epoch=100)\n",
        "# print(cats[1])\n",
        "ww, sgd_re_objvals = sgd(x_train, y_train, 0.1, 0.0001, w_initial, max_epoch = 100)\n",
        "\n",
        "print(\"Optimal Weights:\")\n",
        "print(ww)\n",
        "\n",
        "print(\"Obj Vals\")\n",
        "print(sgd_re_objvals)"
      ]
    },
    {
      "cell_type": "markdown",
      "metadata": {
        "id": "nCAXWs2MAEnU"
      },
      "source": [
        "## 3.3 Mini-Batch Gradient Descent (MBGD)"
      ]
    },
    {
      "cell_type": "markdown",
      "metadata": {
        "id": "TbXdmqgWAEnU"
      },
      "source": [
        "Define $Q_I (w) = \\frac{1}{b} \\sum_{i \\in I} \\log \\Big( 1 + \\exp \\big( - y_i x_i^T w \\big) \\Big) + \\frac{\\lambda}{2} \\| w \\|_2^2 $, where $I$ is a set containing $b$ indices randomly drawn from $\\{ 1, \\cdots , n \\}$ without replacement.\n",
        "\n",
        "The stochastic gradient at $w$ is $g_I = \\frac{\\partial Q_I }{ \\partial w} = \\frac{1}{b} \\sum_{i \\in I} \\frac{- y_i x_i }{1 + \\exp ( y_i x_i^T w)} + \\lambda w$.\n",
        "\n",
        "You may need to implement a new function to calculate the new objective function and gradients."
      ]
    },
    {
      "cell_type": "code",
      "execution_count": 25,
      "metadata": {
        "id": "YfYF3kZuAEnV"
      },
      "outputs": [],
      "source": [
        "# Calculate the objective Q_I and the gradient of Q_I\n",
        "# Inputs:\n",
        "#     w: weights: d-by-b matrix\n",
        "#     xi: data: b-by-d matrix\n",
        "#     yi: label: scalar\n",
        "#     lam: scalar, the regularization parameter\n",
        "# Return:\n",
        "#     obj: scalar, the objective Q_i\n",
        "#     g: d-by-1 matrix, gradient of Q_i\n",
        "\n",
        "def mb_objective_gradient(w, xi, yi, lam):\n",
        "  b = len(yi)\n",
        "  y = yi.reshape(b, 1)\n",
        "  logistic_func = 1 / (1 + np.exp(y * np.dot(xi,w)))\n",
        "    # gradient without regularization\n",
        "  gradient_wo_reg = -((xi * y) * logistic_func).mean(axis=0)\n",
        "    # logistic_func will reshape to be a column vect to allow multiplication with y\n",
        "    # adding a regularization term\n",
        "  reg_term = lam * w.reshape(-1) # computes L2 reg form\n",
        "    # total gradient\n",
        "  g = gradient_wo_reg + reg_term\n",
        "  logistic_loss = np.log(1 + np.exp(-y * (xi @ w))).mean()\n",
        "      # np.dot(x,w) = computing dot product of feature matrix x and weight vec w\n",
        "      # y* np.dot(x,w) = element wise product of the true labels y and the predictions\n",
        "      # np.exp(-y * ...) = compute expoential\n",
        "      # np.log(1 + np.exp ...) compute logistc loss for each sample\n",
        "\n",
        "    # calculating the L2 lregularization term\n",
        "  l2_regularization = 0.5 * lam * np.linalg.norm(w)**2\n",
        "      # mp.linalg.norm(w) = euclidean norm of w vector\n",
        "\n",
        "    # calculating total objective func value\n",
        "  objective_value = logistic_loss + l2_regularization\n",
        "  return objective_value, g.reshape(d,1)\n"
      ]
    },
    {
      "cell_type": "code",
      "source": [
        "catss = mb_objective_gradient(np.zeros((30, 1)), x_train, y_train, 0)\n",
        "catss"
      ],
      "metadata": {
        "colab": {
          "base_uri": "https://localhost:8080/"
        },
        "id": "v46K4Nmr5ZKF",
        "outputId": "1e94bbbf-7c3b-4e25-feec-07bfcee59356"
      },
      "execution_count": 26,
      "outputs": [
        {
          "output_type": "execute_result",
          "data": {
            "text/plain": [
              "(0.6931471805599453,\n",
              " array([[ 0.34696311],\n",
              "        [ 0.2011086 ],\n",
              "        [ 0.3536242 ],\n",
              "        [ 0.335897  ],\n",
              "        [ 0.18126085],\n",
              "        [ 0.28534753],\n",
              "        [ 0.33014281],\n",
              "        [ 0.3759743 ],\n",
              "        [ 0.16820821],\n",
              "        [-0.00691342],\n",
              "        [ 0.2609813 ],\n",
              "        [-0.00155863],\n",
              "        [ 0.25570766],\n",
              "        [ 0.24983798],\n",
              "        [-0.02808445],\n",
              "        [ 0.12290825],\n",
              "        [ 0.1043909 ],\n",
              "        [ 0.1837267 ],\n",
              "        [ 0.00228194],\n",
              "        [ 0.02016179],\n",
              "        [ 0.37037521],\n",
              "        [ 0.22587957],\n",
              "        [ 0.37446838],\n",
              "        [ 0.34928335],\n",
              "        [ 0.20794578],\n",
              "        [ 0.28454083],\n",
              "        [ 0.31404787],\n",
              "        [ 0.38117855],\n",
              "        [ 0.21275787],\n",
              "        [ 0.15123436]]))"
            ]
          },
          "metadata": {},
          "execution_count": 26
        }
      ]
    },
    {
      "cell_type": "markdown",
      "metadata": {
        "id": "9u10gfZ0AEnV"
      },
      "source": [
        "Hints:\n",
        "1. In every epoch, randomly permute the $n$ samples (just like SGD).\n",
        "2. Each epoch has $\\frac{n}{b}$ iterations. In every iteration, use $b$ samples, and compute the gradient and objective using the ``mb_objective_gradient`` function. In the next iteration, use the next $b$ samples, and so on."
      ]
    },
    {
      "cell_type": "code",
      "execution_count": 27,
      "metadata": {
        "id": "v23YGOgyAEnW"
      },
      "outputs": [],
      "source": [
        "# MBGD for solving logistic regression\n",
        "# You will need to do iterative process (loops) to obtain optimal weights in this function\n",
        "\n",
        "# Inputs:\n",
        "#     x: data: n-by-d matrix\n",
        "#     y: label: n-by-1 matrix\n",
        "#     lam: scalar, the regularization parameter\n",
        "#     learning_rate: scalar\n",
        "#     w: weights: d-by-1 matrix, initialization of w\n",
        "#     max_epoch: integer, the maximal epochs\n",
        "# Return:\n",
        "#     w: weights: d-by-1 matrix, the solution\n",
        "#     objvals: a record of each epoch's objective value\n",
        "#     Record one objective value per epoch (not per iteration)\n",
        "\n",
        "def mbgd(x, y, lam, learning_rate, w, max_epoch=100):\n",
        "  batch_size = 20\n",
        "  sample_count, feature_count = x.shape\n",
        "  objective_vales = np.zeros(max_epoch)\n",
        "\n",
        "  for epoch in range(max_epoch):\n",
        "    shuffled_indices = np.random.permutation(sample_count)\n",
        "    x_shuffled = x[shuffled_indices,:]\n",
        "    y_shuffled = y[shuffled_indices]\n",
        "\n",
        "    total_obj = 0\n",
        "\n",
        "    for start_idx in range(0, sample_count, batch_size):\n",
        "      end_idx = start_idx + batch_size\n",
        "      xi_batch = x_shuffled[start_idx:end_idx, :]\n",
        "      yi_batch = y_shuffled[start_idx:end_idx]\n",
        "\n",
        "\n",
        "      batch_obj, batch_grad = mb_objective_gradient(w, xi_batch, yi_batch, lam)\n",
        "      # batch_grad = batch_grad.reshape(-1)\n",
        "      # print(batch_grad.shape)\n",
        "      # print(w.shape)\n",
        "      total_obj += batch_obj * len(yi_batch)\n",
        "\n",
        "      w -= learning_rate * batch_grad\n",
        "\n",
        "    objective_vales[epoch] = total_obj / sample_count\n",
        "  return w, objective_vales\n"
      ]
    },
    {
      "cell_type": "markdown",
      "metadata": {
        "id": "DS5CchrTAEnW"
      },
      "source": [
        "Use mbgd function to obtain your optimal weights and a list of objective values over each epoch."
      ]
    },
    {
      "cell_type": "code",
      "execution_count": 53,
      "metadata": {
        "colab": {
          "base_uri": "https://localhost:8080/"
        },
        "id": "v65iXHM3AEnW",
        "outputId": "3c52456e-bd36-40a5-ee9c-f5ba2eba85cb"
      },
      "outputs": [
        {
          "output_type": "stream",
          "name": "stdout",
          "text": [
            "Optimal Weights:\n",
            "[[-0.21094664]\n",
            " [-0.15185742]\n",
            " [-0.21149843]\n",
            " [-0.20424982]\n",
            " [-0.08887727]\n",
            " [-0.11813701]\n",
            " [-0.16612769]\n",
            " [-0.21649386]\n",
            " [-0.07288027]\n",
            " [ 0.05600415]\n",
            " [-0.15608017]\n",
            " [ 0.00459088]\n",
            " [-0.14281395]\n",
            " [-0.14694952]\n",
            " [ 0.01927177]\n",
            " [ 0.00517937]\n",
            " [ 0.0168976 ]\n",
            " [-0.04992795]\n",
            " [ 0.02001634]\n",
            " [ 0.06401241]\n",
            " [-0.23364727]\n",
            " [-0.17809577]\n",
            " [-0.22975119]\n",
            " [-0.21827764]\n",
            " [-0.13693511]\n",
            " [-0.14018028]\n",
            " [-0.16126776]\n",
            " [-0.21859898]\n",
            " [-0.14350215]\n",
            " [-0.06116275]]\n",
            "Objective Values:\n",
            "[0.673168   0.6346238  0.60126416 0.57224773 0.54698571 0.52463395\n",
            " 0.50479135 0.4871021  0.47131516 0.45704698 0.44407467 0.43236238\n",
            " 0.42162651 0.41181573 0.40276121 0.39436737 0.38666327 0.37946712\n",
            " 0.37276519 0.3665138  0.36067137 0.35518139 0.35002993 0.3452023\n",
            " 0.34063152 0.336331   0.33226073 0.328395   0.32472262 0.32124936\n",
            " 0.31795771 0.31480871 0.31180773 0.30893451 0.30622964 0.30362033\n",
            " 0.3011085  0.29871679 0.29642035 0.29422923 0.29213052 0.29010002\n",
            " 0.28815354 0.28627564 0.28446298 0.28273038 0.28106317 0.27943701\n",
            " 0.27788833 0.2763862  0.27491815 0.27351653 0.27216413 0.27084993\n",
            " 0.26957587 0.26835451 0.26715508 0.26599958 0.2648731  0.26380057\n",
            " 0.26274647 0.26171925 0.26071968 0.25975312 0.25881942 0.2579094\n",
            " 0.25702487 0.25616756 0.25533091 0.25452983 0.25373021 0.25295274\n",
            " 0.25219697 0.25147307 0.25075162 0.25005445 0.24938232 0.24872483\n",
            " 0.24808445 0.24746158 0.24684763 0.24626381 0.24568106 0.24510736\n",
            " 0.2445581  0.24401724 0.24349622 0.24297411 0.24247146 0.24198797\n",
            " 0.24150401 0.24103894 0.24057943 0.2401271  0.23969042 0.23926935\n",
            " 0.23884697 0.23844176 0.23803544 0.2376422 ]\n"
          ]
        }
      ],
      "source": [
        "# Train logistic regression\n",
        "# You should get the optimal weights and a list of objective values by using gradient_descent function.\n",
        "\n",
        "lam = 0.1\n",
        "learning_rate = 0.001\n",
        "max_epoch = 100\n",
        "\n",
        "y = y.reshape(-1,1)\n",
        "\n",
        "w_opt, mbgd_objvals = mbgd(x_train, y_train, lam, learning_rate, np.zeros((30, 1)), max_epoch)\n",
        "\n",
        "print(\"Optimal Weights:\")\n",
        "print(w_opt)\n",
        "\n",
        "print(\"Objective Values:\")\n",
        "print(mbgd_objvals)\n"
      ]
    },
    {
      "cell_type": "code",
      "execution_count": 54,
      "metadata": {
        "colab": {
          "base_uri": "https://localhost:8080/"
        },
        "id": "BVS8hoyeAEnX",
        "outputId": "29693d33-48be-47ff-9297-de23be752b4b"
      },
      "outputs": [
        {
          "output_type": "stream",
          "name": "stdout",
          "text": [
            "Optimal Weights:\n",
            "[[-0.26501321]\n",
            " [-0.24222359]\n",
            " [-0.26316438]\n",
            " [-0.27781871]\n",
            " [-0.10024649]\n",
            " [-0.08056944]\n",
            " [-0.23667655]\n",
            " [-0.30853561]\n",
            " [-0.0691492 ]\n",
            " [ 0.08560534]\n",
            " [-0.27367852]\n",
            " [-0.00165271]\n",
            " [-0.22498332]\n",
            " [-0.24707433]\n",
            " [-0.03083635]\n",
            " [ 0.09134034]\n",
            " [ 0.06434724]\n",
            " [-0.02228547]\n",
            " [ 0.03488595]\n",
            " [ 0.12767727]\n",
            " [-0.33020123]\n",
            " [-0.30441151]\n",
            " [-0.31296564]\n",
            " [-0.32659511]\n",
            " [-0.22636808]\n",
            " [-0.14797646]\n",
            " [-0.22188376]\n",
            " [-0.28906896]\n",
            " [-0.24125161]\n",
            " [-0.08705691]]\n",
            "Objective Values:\n",
            "[0.21543424 0.21541656 0.21543103 0.21544063 0.21543231 0.21543263\n",
            " 0.21544177 0.21542255 0.21544479 0.2154566  0.21541528 0.21543685\n",
            " 0.21542467 0.21546779 0.21542037 0.21545178 0.2154416  0.21544144\n",
            " 0.21544384 0.21542394 0.21539736 0.21544719 0.21546452 0.21542624\n",
            " 0.21541003 0.21544474 0.21544309 0.21543639 0.21542098 0.21541887\n",
            " 0.2154377  0.21541165 0.2154478  0.21543081 0.21542435 0.21542013\n",
            " 0.21542431 0.21545607 0.21541362 0.21542003 0.21542586 0.21543078\n",
            " 0.21541419 0.21541929 0.21544625 0.21545196 0.21546088 0.21541284\n",
            " 0.215424   0.21542963 0.21541351 0.21545419 0.21543592 0.21545663\n",
            " 0.21543501 0.21541496 0.21544479 0.2154308  0.21541958 0.21545948\n",
            " 0.21544109 0.21541222 0.21544287 0.21543735 0.21547019 0.21541626\n",
            " 0.2154381  0.21540247 0.21544785 0.21542901 0.21543864 0.21542849\n",
            " 0.21542969 0.21545555 0.21543965 0.21543765 0.21543782 0.2154312\n",
            " 0.21544819 0.21542187 0.21543289 0.2154399  0.21542547 0.21546129\n",
            " 0.21542214 0.21544243 0.21543778 0.21543838 0.2154188  0.2154081\n",
            " 0.21545773 0.21544099 0.21541702 0.21542929 0.21542983 0.21543623\n",
            " 0.21543573 0.21544351 0.21542479 0.21544997]\n"
          ]
        }
      ],
      "source": [
        "# Train regularized logistric regression\n",
        "# You should get the optimal weights and a list of objective values by using gradient_descent function.\n",
        "\n",
        "lam = 0.1\n",
        "learning_rate = 0.01\n",
        "max_epoch = 100\n",
        "\n",
        "w_optimals, objvals = mbgd(x_train, y_train, lam, learning_rate, w_initial, max_epoch)\n",
        "\n",
        "print(\"Optimal Weights:\")\n",
        "print(w_optimals)\n",
        "print(\"Objective Values:\")\n",
        "print(objvals)"
      ]
    },
    {
      "cell_type": "markdown",
      "metadata": {
        "id": "wWo4QokhAEnX"
      },
      "source": [
        "# 4. Compare GD, SGD, MBGD\n",
        "\n",
        "### Plot objective function values against epochs."
      ]
    },
    {
      "cell_type": "code",
      "execution_count": 55,
      "metadata": {
        "colab": {
          "base_uri": "https://localhost:8080/",
          "height": 449
        },
        "id": "FLrt-pcQT8e5",
        "outputId": "26d33f84-8a0b-4553-eb15-6f0e01bc91d8"
      },
      "outputs": [
        {
          "output_type": "display_data",
          "data": {
            "text/plain": [
              "<Figure size 640x480 with 1 Axes>"
            ],
            "image/png": "[encoded data removed]"
          },
          "metadata": {}
        }
      ],
      "source": [
        "import matplotlib.pyplot as plt\n",
        "%matplotlib inline\n",
        "\n",
        "epochs = len(gd_objs)\n",
        "x = range(epochs)\n",
        "\n",
        "plt.plot(x, gd_objs, label=\"GD\")\n",
        "plt.plot(x, sgd_objvals, label=\"SGD\")\n",
        "plt.plot(x, mbgd_objvals, label=\"MBGD\")\n",
        "\n",
        "plt.legend()\n",
        "plt.xlabel(\"Epoch\")\n",
        "plt.ylabel(\"Objective\")\n",
        "plt.show()"
      ]
    },
    {
      "cell_type": "markdown",
      "metadata": {
        "id": "t87UYJdmAEnY"
      },
      "source": [
        "# 5. Prediction\n",
        "### Compare the training and testing accuracy for logistic regression and regularized logistic regression."
      ]
    },
    {
      "cell_type": "code",
      "execution_count": 31,
      "metadata": {
        "id": "TGVYinoSAEnZ"
      },
      "outputs": [],
      "source": [
        "# Predict class label\n",
        "# Inputs:\n",
        "#     w: weights: d-by-1 matrix\n",
        "#     X: data: m-by-d matrix\n",
        "# Return:\n",
        "#     f: m-by-1 matrix, the predictions\n",
        "def predict(w, X):\n",
        "  z = X @ w # cal product\n",
        "  prob = 1 / (1 + np.exp(-z)) # summation function\n",
        "\n",
        "  f = np.where(prob >= 0, 1, -1) # setting threshold to determine class labels\n",
        "\n",
        "  return f"
      ]
    },
    {
      "cell_type": "code",
      "execution_count": 32,
      "metadata": {
        "id": "ur_0fbvJPSvY"
      },
      "outputs": [],
      "source": [
        "def get_acc(w, X, y_test):\n",
        "  pre = predict(w, X)\n",
        "  results = (pre == y_test)\n",
        "  acc = np.mean(results)\n",
        "  # for i in range(len(y_test)):\n",
        "  #   if results[i] == True:\n",
        "  #     acc += 1\n",
        "  return acc\n"
      ]
    },
    {
      "cell_type": "code",
      "execution_count": 51,
      "metadata": {
        "id": "L7wdCPzPAEnZ",
        "colab": {
          "base_uri": "https://localhost:8080/"
        },
        "outputId": "fa17ccf1-4500-4a6d-e318-348fab6b7786"
      },
      "outputs": [
        {
          "output_type": "stream",
          "name": "stdout",
          "text": [
            "Y test accuracy gd: 0.6228070175438597\n",
            "Y test accuracy sgd 0.6228070175438597\n",
            "Y test accuracy mbgd 0.6228070175438597\n"
          ]
        }
      ],
      "source": [
        "# evaluate training error of logistric regression and regularized version\n",
        "y_pred_train_logistic = predict(weights, x_train)\n",
        "y_pred_test_logistic = predict(wei, x_test)\n",
        "# gets weights for the three models and get accuracy\n",
        "\n",
        "y_acc_test_gd = get_acc(weights, x_test, y_test)\n",
        "print(\"Y test accuracy gd:\", y_acc_test_gd)\n",
        "y_acc_test_sgd = get_acc(w_w, x_test, y_test)\n",
        "print(\"Y test accuracy sgd\", y_acc_test_sgd)\n",
        "y_acc_test_mbgd = get_acc(w_opt, x_test, y_test)\n",
        "print(\"Y test accuracy mbgd\", y_acc_test_mbgd)"
      ]
    },
    {
      "cell_type": "code",
      "execution_count": 34,
      "metadata": {
        "id": "Vg3n8w3NAEnZ"
      },
      "outputs": [],
      "source": [
        "# evaluate testing error of logistric regression and regularized version\n",
        "def errors(w, X, y):\n",
        "  acc = get_acc(w, X, y)\n",
        "  error = 1 - acc\n",
        "  return error"
      ]
    },
    {
      "cell_type": "code",
      "source": [
        "y_error_test_gf_lr = errors(weights, x_train, y_train)\n",
        "print(\"Error testing logistric regression gd:\", y_error_test_gf_lr)\n",
        "\n",
        "y_error_test_gf_lrr = errors(wei, x_test, y_test)\n",
        "print(\"Error testing logistric regression regularized gd:\", y_error_test_gf_lrr)\n",
        "\n",
        "y_error_test_sgd_lr = errors(w_w, x_train, y_train)\n",
        "print(\"Error testing logistric regression sgd:\", y_error_test_sgd_lr)\n",
        "\n",
        "y_error_test_sgd_lrr = errors(ww, x_test, y_test)\n",
        "print(\"Error testing logistic regression regularized sgd:\", y_error_test_sgd_lrr)\n",
        "\n",
        "y_error_test_mbgd_lr = errors(w_opt, x_train, y_train)\n",
        "print(\"Error testing logistric regression mbgd:\", y_error_test_mbgd_lr)\n",
        "\n",
        "y_error_test_mbgd_lrr = errors(w_optimals, x_test, y_test)\n",
        "print(\"Error testing logistic regression regularized mbgd:\", y_error_test_mbgd_lrr)"
      ],
      "metadata": {
        "colab": {
          "base_uri": "https://localhost:8080/"
        },
        "id": "bqKJMZacMuXz",
        "outputId": "e532eeb3-26cb-4dbf-ea4d-d2a10516ca83"
      },
      "execution_count": 35,
      "outputs": [
        {
          "output_type": "stream",
          "name": "stdout",
          "text": [
            "Error testing logistric regression gd: 0.37142857142857144\n",
            "Error testing logistric regression regularized gd: 0.3771929824561403\n",
            "Error testing logistric regression sgd: 0.37142857142857144\n",
            "Error testing logistic regression regularized sgd: 0.3771929824561403\n",
            "Error testing logistric regression mbgd: 0.37142857142857144\n",
            "Error testing logistic regression regularized mbgd: 0.3771929824561403\n"
          ]
        }
      ]
    },
    {
      "cell_type": "markdown",
      "metadata": {
        "id": "KhFoHurKAEna"
      },
      "source": [
        "# 6. Parameters tuning"
      ]
    },
    {
      "cell_type": "markdown",
      "metadata": {
        "id": "0jhlRKJCAEna"
      },
      "source": [
        "### In this section, you may try different combinations of parameters (regularization value, learning rate, etc) to see their effects on the model. (Open ended question)"
      ]
    },
    {
      "cell_type": "code",
      "source": [
        "# testing different learning rates & their accuracy\n",
        "#one\n",
        "onew, gdd_o = gradient_descent(x_train,y_train, 0, 0.5, np.zeros((30, 1)))\n",
        "one = get_acc(onew, x_test, y_test)\n",
        "print(\"Y test accuracy gd:\", one)\n",
        "\n",
        "# two\n",
        "oneww, gddd_o = gradient_descent(x_train,y_train, 1, 0.05, np.zeros((30, 1)))\n",
        "onee = get_acc(oneww, x_test, y_test)\n",
        "print(\"Y test accuracy gd:\", onee)\n",
        "\n",
        "# three\n",
        "onewww, gdddd_o = gradient_descent(x_train,y_train, 2, 0.005, np.zeros((30, 1)))\n",
        "oneee = get_acc(onewww, x_test, y_test)\n",
        "print(\"Y test accuracy gd:\", oneee)\n",
        "\n",
        "import matplotlib.pyplot as plt\n",
        "%matplotlib inline\n",
        "\n",
        "epochs = len(gd_objs)\n",
        "x = range(epochs)\n",
        "\n",
        "plt.plot(x, gdd_o, label=\"ONE\")\n",
        "plt.plot(x, gddd_o, label=\"TWO\")\n",
        "plt.plot(x, gdddd_o, label=\"THREE\")\n",
        "\n",
        "plt.legend()\n",
        "plt.xlabel(\"Epoch\")\n",
        "plt.ylabel(\"Objective\")\n",
        "plt.show()\n"
      ],
      "metadata": {
        "colab": {
          "base_uri": "https://localhost:8080/",
          "height": 500
        },
        "id": "2Ky2ODHrRe48",
        "outputId": "c8633c65-cb6e-4892-988d-eb0daef9f3b6"
      },
      "execution_count": 36,
      "outputs": [
        {
          "output_type": "stream",
          "name": "stdout",
          "text": [
            "Y test accuracy gd: 0.6228070175438597\n",
            "Y test accuracy gd: 0.6228070175438597\n",
            "Y test accuracy gd: 0.6228070175438597\n"
          ]
        },
        {
          "output_type": "display_data",
          "data": {
            "text/plain": [
              "<Figure size 640x480 with 1 Axes>"
            ],
            "image/png": "[encoded data removed]"
          },
          "metadata": {}
        }
      ]
    },
    {
      "cell_type": "markdown",
      "source": [
        "From this graph I can see that with curve one having learning rate 0.5 and no regularization it converges quickly indicating a sharp decline in the objective function. The curve two with a learning rate of 0.05 and a regularization of 1 converges more slowly and ends at a higher objective values than one. The curve three with a learning rate of 0.0005 and a regularization of 2 shows that the the convergent rate is making the optimization a lot smoother."
      ],
      "metadata": {
        "id": "3fk5SSvQXxyz"
      }
    }
  ],
  "metadata": {
    "accelerator": "GPU",
    "colab": {
      "gpuType": "T4",
      "provenance": []
    },
    "kernelspec": {
      "display_name": "Python 3",
      "name": "python3"
    },
    "language_info": {
      "codemirror_mode": {
        "name": "ipython",
        "version": 3
      },
      "file_extension": ".py",
      "mimetype": "text/x-python",
      "name": "python",
      "nbconvert_exporter": "python",
      "pygments_lexer": "ipython3",
      "version": "3.7.3"
    }
  },
  "nbformat": 4,
  "nbformat_minor": 0
}